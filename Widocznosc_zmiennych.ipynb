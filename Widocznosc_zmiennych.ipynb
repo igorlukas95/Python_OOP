{
  "nbformat": 4,
  "nbformat_minor": 0,
  "metadata": {
    "colab": {
      "name": "Widocznosc_zmiennych.ipynb",
      "provenance": [],
      "authorship_tag": "ABX9TyMbf5jsMhkF9097UpJA5cza",
      "include_colab_link": true
    },
    "kernelspec": {
      "name": "python3",
      "display_name": "Python 3"
    },
    "language_info": {
      "name": "python"
    }
  },
  "cells": [
    {
      "cell_type": "markdown",
      "metadata": {
        "id": "view-in-github",
        "colab_type": "text"
      },
      "source": [
        "<a href=\"https://colab.research.google.com/github/igorlukas95/Python_OOP/blob/main/Widocznosc_zmiennych.ipynb\" target=\"_parent\"><img src=\"https://colab.research.google.com/assets/colab-badge.svg\" alt=\"Open In Colab\"/></a>"
      ]
    },
    {
      "cell_type": "code",
      "metadata": {
        "colab": {
          "base_uri": "https://localhost:8080/"
        },
        "id": "0H4x4qCHxH0K",
        "outputId": "7c159ef3-97b7-4901-867c-87f237652617"
      },
      "source": [
        "class Laptop:\n",
        "  brand = 'Apple'\n",
        "  _code = '0034'\n",
        "  __wholesale_price = 2490\n",
        "Laptop.__dict__"
      ],
      "execution_count": null,
      "outputs": [
        {
          "output_type": "execute_result",
          "data": {
            "text/plain": [
              "mappingproxy({'_Laptop__wholesale_price': 2490,\n",
              "              '__dict__': <attribute '__dict__' of 'Laptop' objects>,\n",
              "              '__doc__': None,\n",
              "              '__module__': '__main__',\n",
              "              '__weakref__': <attribute '__weakref__' of 'Laptop' objects>,\n",
              "              '_code': '0034',\n",
              "              'brand': 'Apple'})"
            ]
          },
          "metadata": {
            "tags": []
          },
          "execution_count": 1
        }
      ]
    },
    {
      "cell_type": "code",
      "metadata": {
        "colab": {
          "base_uri": "https://localhost:8080/"
        },
        "id": "kIziBnYy6zN-",
        "outputId": "415070c0-de2c-457e-84f6-5b1201c7c5cd"
      },
      "source": [
        "Laptop._Laptop__wholesale_price"
      ],
      "execution_count": null,
      "outputs": [
        {
          "output_type": "execute_result",
          "data": {
            "text/plain": [
              "2490"
            ]
          },
          "metadata": {
            "tags": []
          },
          "execution_count": 4
        }
      ]
    },
    {
      "cell_type": "code",
      "metadata": {
        "id": "DcJz3bI666XI"
      },
      "source": [
        ""
      ],
      "execution_count": null,
      "outputs": []
    },
    {
      "cell_type": "markdown",
      "metadata": {
        "id": "sC1-XWmx7gMQ"
      },
      "source": [
        "### Przyklad"
      ]
    },
    {
      "cell_type": "code",
      "metadata": {
        "colab": {
          "base_uri": "https://localhost:8080/"
        },
        "id": "5Y-mh0i07hcc",
        "outputId": "b364e791-4761-474b-b08f-67c0c98f4d97"
      },
      "source": [
        "class Laptop:\n",
        "  brand = 'Apple'\n",
        "  _usdpln = 4.0\n",
        "  __trade_margin = 0.3\n",
        "  def __init__(self,net_price):\n",
        "    self.net_price = net_price\n",
        "  def _converst_price(price):\n",
        "    return price * Laptop._usdpln * (1 + Laptop._Laptop__trade_margin)\n",
        "\n",
        "  def display_price_pln(self):\n",
        "    print(Laptop._converst_price(self.net_price))\n",
        "\n",
        "Laptop.__dict__"
      ],
      "execution_count": null,
      "outputs": [
        {
          "output_type": "execute_result",
          "data": {
            "text/plain": [
              "mappingproxy({'_Laptop__trade_margin': 0.3,\n",
              "              '__dict__': <attribute '__dict__' of 'Laptop' objects>,\n",
              "              '__doc__': None,\n",
              "              '__init__': <function __main__.Laptop.__init__>,\n",
              "              '__module__': '__main__',\n",
              "              '__weakref__': <attribute '__weakref__' of 'Laptop' objects>,\n",
              "              '_converst_price': <function __main__.Laptop._converst_price>,\n",
              "              '_usdpln': 4.0,\n",
              "              'brand': 'Apple',\n",
              "              'display_price_pln': <function __main__.Laptop.display_price_pln>})"
            ]
          },
          "metadata": {
            "tags": []
          },
          "execution_count": 7
        }
      ]
    },
    {
      "cell_type": "code",
      "metadata": {
        "colab": {
          "base_uri": "https://localhost:8080/"
        },
        "id": "59sARZ3t7xZ1",
        "outputId": "c61531d5-49f4-4102-d0ea-71215a55fc3d"
      },
      "source": [
        "laptop = Laptop(3000)\n",
        "laptop.display_price_pln()"
      ],
      "execution_count": null,
      "outputs": [
        {
          "output_type": "stream",
          "text": [
            "15600.0\n"
          ],
          "name": "stdout"
        }
      ]
    },
    {
      "cell_type": "code",
      "metadata": {
        "colab": {
          "base_uri": "https://localhost:8080/"
        },
        "id": "VTI1m6-68c9L",
        "outputId": "0dbfafa9-c768-44dd-aa7b-48dd6b66dcab"
      },
      "source": [
        "class Laptop:\n",
        "  brand = 'Apple'\n",
        "  _usdpln = 4.0\n",
        "  __trade_margin = 0.3\n",
        "  def __init__(self,net_price):\n",
        "    self.net_price = net_price\n",
        "  def _converst_price(price):\n",
        "    return price * Laptop._usdpln * (1 + Laptop.__trade_margin)\n",
        "\n",
        "  def display_price_pln(self):\n",
        "    print(Laptop._converst_price(self.net_price))\n",
        "\n",
        "Laptop.__dict__"
      ],
      "execution_count": null,
      "outputs": [
        {
          "output_type": "execute_result",
          "data": {
            "text/plain": [
              "mappingproxy({'_Laptop__trade_margin': 0.3,\n",
              "              '__dict__': <attribute '__dict__' of 'Laptop' objects>,\n",
              "              '__doc__': None,\n",
              "              '__init__': <function __main__.Laptop.__init__>,\n",
              "              '__module__': '__main__',\n",
              "              '__weakref__': <attribute '__weakref__' of 'Laptop' objects>,\n",
              "              '_converst_price': <function __main__.Laptop._converst_price>,\n",
              "              '_usdpln': 4.0,\n",
              "              'brand': 'Apple',\n",
              "              'display_price_pln': <function __main__.Laptop.display_price_pln>})"
            ]
          },
          "metadata": {
            "tags": []
          },
          "execution_count": 9
        }
      ]
    },
    {
      "cell_type": "code",
      "metadata": {
        "colab": {
          "base_uri": "https://localhost:8080/"
        },
        "id": "i8XcoFgy8pHS",
        "outputId": "29d8cee4-988b-499d-8906-3d791d85ecf7"
      },
      "source": [
        "laptop = Laptop(3000)\n",
        "laptop.display_price_pln()"
      ],
      "execution_count": null,
      "outputs": [
        {
          "output_type": "stream",
          "text": [
            "15600.0\n"
          ],
          "name": "stdout"
        }
      ]
    },
    {
      "cell_type": "code",
      "metadata": {
        "colab": {
          "base_uri": "https://localhost:8080/"
        },
        "id": "-BlJRCN88qWC",
        "outputId": "df429d08-cfc2-49d9-c0ad-aae5767adc66"
      },
      "source": [
        "class Laptop:\n",
        "  brand = 'Apple'\n",
        "  _usdpln = 4.0\n",
        "  __trade_margin = 0.3\n",
        "  def __init__(self,net_price):\n",
        "    self.net_price = net_price\n",
        "  def __convert_price(price):\n",
        "    return price * Laptop._usdpln * (1 + Laptop._Laptop__trade_margin)\n",
        "\n",
        "  def display_price_pln(self):\n",
        "    print(Laptop.__convert_price(self.net_price))\n",
        "\n",
        "Laptop.__dict__"
      ],
      "execution_count": null,
      "outputs": [
        {
          "output_type": "execute_result",
          "data": {
            "text/plain": [
              "mappingproxy({'_Laptop__convert_price': <function __main__.Laptop.__convert_price>,\n",
              "              '_Laptop__trade_margin': 0.3,\n",
              "              '__dict__': <attribute '__dict__' of 'Laptop' objects>,\n",
              "              '__doc__': None,\n",
              "              '__init__': <function __main__.Laptop.__init__>,\n",
              "              '__module__': '__main__',\n",
              "              '__weakref__': <attribute '__weakref__' of 'Laptop' objects>,\n",
              "              '_usdpln': 4.0,\n",
              "              'brand': 'Apple',\n",
              "              'display_price_pln': <function __main__.Laptop.display_price_pln>})"
            ]
          },
          "metadata": {
            "tags": []
          },
          "execution_count": 17
        }
      ]
    },
    {
      "cell_type": "code",
      "metadata": {
        "colab": {
          "base_uri": "https://localhost:8080/"
        },
        "id": "nGOzhtqu81en",
        "outputId": "5dee11d3-15c1-4f2f-cecb-8a813cb932db"
      },
      "source": [
        "laptop = Laptop(3000)\n",
        "laptop.display_price_pln()"
      ],
      "execution_count": null,
      "outputs": [
        {
          "output_type": "stream",
          "text": [
            "15600.0\n"
          ],
          "name": "stdout"
        }
      ]
    },
    {
      "cell_type": "code",
      "metadata": {
        "id": "-LTdLnbg822o",
        "colab": {
          "base_uri": "https://localhost:8080/"
        },
        "outputId": "a1b61f29-bc8f-411d-e640-049a957b270d"
      },
      "source": [
        "class Smartphone:\n",
        "    def __init__(self,brand,model,price):\n",
        "      self.brand = brand\n",
        "      self._model = model\n",
        "      self.__price = price\n",
        "smartphone = Smartphone('Huawei','Mate 20 Pro',1999)\n",
        "print(smartphone.__dict__)"
      ],
      "execution_count": null,
      "outputs": [
        {
          "output_type": "stream",
          "text": [
            "{'brand': 'Huawei', '_model': 'Mate 20 Pro', '_Smartphone__price': 1999}\n"
          ],
          "name": "stdout"
        }
      ]
    },
    {
      "cell_type": "code",
      "metadata": {
        "colab": {
          "base_uri": "https://localhost:8080/"
        },
        "id": "mcGqIrzLhXIH",
        "outputId": "ccbf20d7-62ad-4099-c1d9-c36e9d83ba26"
      },
      "source": [
        "class Smartphone:\n",
        "    def __init__(self,brand,model,price):\n",
        "      self.brand = brand\n",
        "      self._model = model\n",
        "      self.__price = price\n",
        "smartphone = Smartphone('Huawei','Mate 20 Pro',1999)\n",
        "print(f'brand -> {smartphone.brand}')\n",
        "print(f'model -> {smartphone._model}')\n",
        "print(f'price -> {smartphone._Smartphone__price}')"
      ],
      "execution_count": null,
      "outputs": [
        {
          "output_type": "stream",
          "text": [
            "brand -> Huawei\n",
            "model -> Mate 20 Pro\n",
            "price -> 1999\n"
          ],
          "name": "stdout"
        }
      ]
    },
    {
      "cell_type": "code",
      "metadata": {
        "colab": {
          "base_uri": "https://localhost:8080/"
        },
        "id": "xUhD79AuiSn1",
        "outputId": "b99ae343-84bf-439a-fcfc-8b7c427916cc"
      },
      "source": [
        "smartphone.__dict__"
      ],
      "execution_count": null,
      "outputs": [
        {
          "output_type": "execute_result",
          "data": {
            "text/plain": [
              "{'_Smartphone__price': 1999, '_model': 'Mate 20 Pro', 'brand': 'Huawei'}"
            ]
          },
          "metadata": {
            "tags": []
          },
          "execution_count": 6
        }
      ]
    },
    {
      "cell_type": "code",
      "metadata": {
        "colab": {
          "base_uri": "https://localhost:8080/"
        },
        "id": "MVZOpf34icwi",
        "outputId": "91ab1c72-7d8c-4c97-dd5f-7caa10a8bb98"
      },
      "source": [
        "Smartphone.__dict__"
      ],
      "execution_count": null,
      "outputs": [
        {
          "output_type": "execute_result",
          "data": {
            "text/plain": [
              "mappingproxy({'__dict__': <attribute '__dict__' of 'Smartphone' objects>,\n",
              "              '__doc__': None,\n",
              "              '__init__': <function __main__.Smartphone.__init__>,\n",
              "              '__module__': '__main__',\n",
              "              '__weakref__': <attribute '__weakref__' of 'Smartphone' objects>})"
            ]
          },
          "metadata": {
            "tags": []
          },
          "execution_count": 7
        }
      ]
    },
    {
      "cell_type": "code",
      "metadata": {
        "id": "lyQX7R49ifHc"
      },
      "source": [
        ""
      ],
      "execution_count": null,
      "outputs": []
    }
  ]
}