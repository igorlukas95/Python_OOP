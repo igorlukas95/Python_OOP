{
  "nbformat": 4,
  "nbformat_minor": 0,
  "metadata": {
    "colab": {
      "name": "Datumo_Zadanie_Rekrutacyjne.ipynb",
      "provenance": [],
      "toc_visible": true,
      "authorship_tag": "ABX9TyMo7pZrBjAN6qNzVkfQ7kwT",
      "include_colab_link": true
    },
    "kernelspec": {
      "name": "python3",
      "display_name": "Python 3"
    },
    "language_info": {
      "name": "python"
    }
  },
  "cells": [
    {
      "cell_type": "markdown",
      "metadata": {
        "id": "view-in-github",
        "colab_type": "text"
      },
      "source": [
        "<a href=\"https://colab.research.google.com/github/igorlukas95/Python_OOP/blob/main/Datumo_Zadanie_Rekrutacyjne.ipynb\" target=\"_parent\"><img src=\"https://colab.research.google.com/assets/colab-badge.svg\" alt=\"Open In Colab\"/></a>"
      ]
    },
    {
      "cell_type": "markdown",
      "metadata": {
        "id": "q8_-GxxaeLSa"
      },
      "source": [
        "### Zadanie na policzenie ilości par w zbiorze"
      ]
    },
    {
      "cell_type": "code",
      "metadata": {
        "id": "9uRn06r4vUOm",
        "colab": {
          "base_uri": "https://localhost:8080/"
        },
        "outputId": "a6cfd950-c988-44bd-a45f-bca912c68778"
      },
      "source": [
        "def printPairs(arr, sum):\n",
        "    s = set()\n",
        "    for i in range(len(arr)):\n",
        "        temp = sum - arr[i]\n",
        "        if temp in arr:\n",
        "            s.add((arr[i], temp))\n",
        "    return s\n",
        "\n",
        "# %%\n",
        "from numpy import loadtxt\n",
        "A = loadtxt(\"lista.txt\", comments=\"#\", delimiter=\",\", unpack=False)\n",
        "# %%\n",
        "sum = 12\n",
        "result = printPairs(A,sum)\n",
        "print(result)\n"
      ],
      "execution_count": 12,
      "outputs": [
        {
          "output_type": "stream",
          "text": [
            "{(12.0, 0.0), (4.0, 8.0), (0.0, 12.0), (11.0, 1.0), (1.0, 11.0), (8.0, 4.0)}\n"
          ],
          "name": "stdout"
        }
      ]
    },
    {
      "cell_type": "markdown",
      "metadata": {
        "id": "bNtvMSiQD_4G"
      },
      "source": [
        "Zadanie ma złożoność obliczeniową O(n)"
      ]
    }
  ]
}