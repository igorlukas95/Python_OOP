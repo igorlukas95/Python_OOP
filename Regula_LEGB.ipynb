{
  "nbformat": 4,
  "nbformat_minor": 0,
  "metadata": {
    "colab": {
      "name": "Regula LEGB",
      "provenance": [],
      "authorship_tag": "ABX9TyO3/nWnnXbof+3Zx3nVceyJ",
      "include_colab_link": true
    },
    "kernelspec": {
      "name": "python3",
      "display_name": "Python 3"
    },
    "language_info": {
      "name": "python"
    }
  },
  "cells": [
    {
      "cell_type": "markdown",
      "metadata": {
        "id": "view-in-github",
        "colab_type": "text"
      },
      "source": [
        "<a href=\"https://colab.research.google.com/github/igorlukas95/Python_OOP/blob/main/Regula_LEGB.ipynb\" target=\"_parent\"><img src=\"https://colab.research.google.com/assets/colab-badge.svg\" alt=\"Open In Colab\"/></a>"
      ]
    },
    {
      "cell_type": "code",
      "metadata": {
        "id": "OqQN49qcFOsx"
      },
      "source": [
        "def sample_function():\n",
        "  var1='Python'\n",
        "  print(f'Zmienna var1: {var1}')\n",
        "  "
      ],
      "execution_count": null,
      "outputs": []
    },
    {
      "cell_type": "code",
      "metadata": {
        "colab": {
          "base_uri": "https://localhost:8080/"
        },
        "id": "CX0PGfGzG-4h",
        "outputId": "57b4b149-ba72-4b8b-cec2-70795aa32d5c"
      },
      "source": [
        "sample_function()"
      ],
      "execution_count": null,
      "outputs": [
        {
          "output_type": "stream",
          "text": [
            "Zmienna var1: Python\n"
          ],
          "name": "stdout"
        }
      ]
    },
    {
      "cell_type": "markdown",
      "metadata": {
        "id": "fWPrlE9kHF1z"
      },
      "source": [
        "Zmienna var1 nie jest dostępna z poziomu globalnego. Jest to zmienna lokalna funkcji sample_function"
      ]
    },
    {
      "cell_type": "code",
      "metadata": {
        "id": "nDTJTqjLHBcn"
      },
      "source": [
        "var1"
      ],
      "execution_count": null,
      "outputs": []
    },
    {
      "cell_type": "code",
      "metadata": {
        "id": "DJLex_DRHN_4"
      },
      "source": [
        "def sample_function(var1):\n",
        "  var2 = var1 +' 3.8'\n",
        "  print(f'Zmienna var1: {var1}')\n",
        "  print(f'Zmienna var2: {var2}')"
      ],
      "execution_count": null,
      "outputs": []
    },
    {
      "cell_type": "code",
      "metadata": {
        "colab": {
          "base_uri": "https://localhost:8080/"
        },
        "id": "EKZx4omBHaVf",
        "outputId": "aaeb409f-c4a9-443e-f2d0-8a16f17783d0"
      },
      "source": [
        "sample_function('Python')"
      ],
      "execution_count": null,
      "outputs": [
        {
          "output_type": "stream",
          "text": [
            "Zmienna var1: Python\n",
            "Zmienna var2: Python 3.8\n"
          ],
          "name": "stdout"
        }
      ]
    },
    {
      "cell_type": "code",
      "metadata": {
        "colab": {
          "base_uri": "https://localhost:8080/"
        },
        "id": "0U7_AvX6HgME",
        "outputId": "1112ef74-a8fb-4df4-81dc-aa455122d3ac"
      },
      "source": [
        "sample_function('Version')"
      ],
      "execution_count": null,
      "outputs": [
        {
          "output_type": "stream",
          "text": [
            "Zmienna var1: Version\n",
            "Zmienna var2: Version 3.8\n"
          ],
          "name": "stdout"
        }
      ]
    },
    {
      "cell_type": "markdown",
      "metadata": {
        "id": "FP5R0XpHH_HV"
      },
      "source": [
        "### lambda"
      ]
    },
    {
      "cell_type": "code",
      "metadata": {
        "colab": {
          "base_uri": "https://localhost:8080/"
        },
        "id": "r9UZmg0GIBwV",
        "outputId": "36efd700-91d0-4919-b1b2-a047798cc6fd"
      },
      "source": [
        "sample_function = lambda word: len(word.replace(' ',''))\n",
        "sample_function"
      ],
      "execution_count": null,
      "outputs": [
        {
          "output_type": "execute_result",
          "data": {
            "text/plain": [
              "<function __main__.<lambda>>"
            ]
          },
          "metadata": {
            "tags": []
          },
          "execution_count": 8
        }
      ]
    },
    {
      "cell_type": "code",
      "metadata": {
        "colab": {
          "base_uri": "https://localhost:8080/"
        },
        "id": "kW8PazTWIKbr",
        "outputId": "88308e8b-26b2-4879-ca79-e21f00b38ce3"
      },
      "source": [
        "sample_function('Python 3.8')"
      ],
      "execution_count": null,
      "outputs": [
        {
          "output_type": "execute_result",
          "data": {
            "text/plain": [
              "9"
            ]
          },
          "metadata": {
            "tags": []
          },
          "execution_count": 11
        }
      ]
    },
    {
      "cell_type": "code",
      "metadata": {
        "colab": {
          "base_uri": "https://localhost:8080/"
        },
        "id": "m5491aN-ITtA",
        "outputId": "4b8da2fd-75bc-4677-fdc4-06f5d125ad00"
      },
      "source": [
        "sample_function.__code__.co_argcount"
      ],
      "execution_count": null,
      "outputs": [
        {
          "output_type": "execute_result",
          "data": {
            "text/plain": [
              "1"
            ]
          },
          "metadata": {
            "tags": []
          },
          "execution_count": 15
        }
      ]
    },
    {
      "cell_type": "markdown",
      "metadata": {
        "id": "ld4f2HwWIo7h"
      },
      "source": [
        "### Zakres obejmujący"
      ]
    },
    {
      "cell_type": "code",
      "metadata": {
        "id": "fO9U5gUzIrJA"
      },
      "source": [
        "def sample_function():\n",
        "\n",
        "  var1='Python'\n",
        "  def inner_fuction():\n",
        "\n",
        "    print(f'Zmienna var1: {var1}')\n",
        "  inner_fuction()"
      ],
      "execution_count": null,
      "outputs": []
    },
    {
      "cell_type": "markdown",
      "metadata": {
        "id": "68NXWddyI3SP"
      },
      "source": [
        "W funkcji sample_function posiadamy zmienna lokalną var1 oraz funckje inner_function. Nie są one dostepne z poziomu globalnego."
      ]
    },
    {
      "cell_type": "code",
      "metadata": {
        "colab": {
          "base_uri": "https://localhost:8080/"
        },
        "id": "KNJi9knoJB2S",
        "outputId": "85d443d7-06ea-45a5-d573-98aea4f52ac1"
      },
      "source": [
        "sample_function()"
      ],
      "execution_count": null,
      "outputs": [
        {
          "output_type": "stream",
          "text": [
            "Zmienna var1: Python\n"
          ],
          "name": "stdout"
        }
      ]
    },
    {
      "cell_type": "code",
      "metadata": {
        "id": "xqV7d480Joh2"
      },
      "source": [
        "def sample_function():\n",
        "\n",
        "  var1='Python'\n",
        "  def inner_fuction():\n",
        "\n",
        "    print(f'Zmienna var1: {var1}')\n",
        "    print(f'Zmienna var1: {var2}')\n",
        "  var2 = '3.8'\n",
        "  inner_fuction()\n"
      ],
      "execution_count": null,
      "outputs": []
    },
    {
      "cell_type": "code",
      "metadata": {
        "colab": {
          "base_uri": "https://localhost:8080/"
        },
        "id": "Hr4ukccJJ6Ft",
        "outputId": "c0e7aaeb-b5b0-4096-aae5-e3d239fd627b"
      },
      "source": [
        "sample_function()"
      ],
      "execution_count": null,
      "outputs": [
        {
          "output_type": "stream",
          "text": [
            "Zmienna var1: Python\n",
            "Zmienna var1: 3.8\n"
          ],
          "name": "stdout"
        }
      ]
    },
    {
      "cell_type": "code",
      "metadata": {
        "colab": {
          "base_uri": "https://localhost:8080/"
        },
        "id": "ofsddI9fJ7Gn",
        "outputId": "40ad3c5d-847c-43f2-8020-b759ce74180e"
      },
      "source": [
        "def sample_function():\n",
        "\n",
        "  var1='Python'\n",
        "  def inner_fuction():\n",
        "    var1= 'Java'\n",
        "\n",
        "    print(f'Zmienna var1: {var1}')\n",
        "  print(f'Zmienna var1: {var1}')\n",
        "  inner_fuction()\n",
        "  print(f'Zmienna var1: {var1}')\n",
        "sample_function()"
      ],
      "execution_count": null,
      "outputs": [
        {
          "output_type": "stream",
          "text": [
            "Zmienna var1: Python\n",
            "Zmienna var1: Java\n",
            "Zmienna var1: Python\n"
          ],
          "name": "stdout"
        }
      ]
    },
    {
      "cell_type": "markdown",
      "metadata": {
        "id": "UEBOvLzJLYY9"
      },
      "source": [
        "### Zakres globalny"
      ]
    },
    {
      "cell_type": "code",
      "metadata": {
        "colab": {
          "base_uri": "https://localhost:8080/",
          "height": 35
        },
        "id": "uDvE4M-3LZ_e",
        "outputId": "bd678b66-2a4a-40c0-e277-e92f2e0591c3"
      },
      "source": [
        "__name__"
      ],
      "execution_count": null,
      "outputs": [
        {
          "output_type": "execute_result",
          "data": {
            "application/vnd.google.colaboratory.intrinsic+json": {
              "type": "string"
            },
            "text/plain": [
              "'__main__'"
            ]
          },
          "metadata": {
            "tags": []
          },
          "execution_count": 30
        }
      ]
    },
    {
      "cell_type": "code",
      "metadata": {
        "colab": {
          "base_uri": "https://localhost:8080/"
        },
        "id": "0N5RAdcoLhY9",
        "outputId": "48dfe3c8-a2da-4d49-b4aa-9caa447dc934"
      },
      "source": [
        "if __name__ =='__main__':\n",
        "  print('Bezoposrednio')"
      ],
      "execution_count": null,
      "outputs": [
        {
          "output_type": "stream",
          "text": [
            "Bezoposrednio\n"
          ],
          "name": "stdout"
        }
      ]
    },
    {
      "cell_type": "code",
      "metadata": {
        "colab": {
          "base_uri": "https://localhost:8080/"
        },
        "id": "k30HCu4RL-Qc",
        "outputId": "7fff2c9d-8a3c-4177-8e8a-6d2665a40299"
      },
      "source": [
        "help(globals)"
      ],
      "execution_count": null,
      "outputs": [
        {
          "output_type": "stream",
          "text": [
            "Help on built-in function globals in module builtins:\n",
            "\n",
            "globals()\n",
            "    Return the dictionary containing the current scope's global variables.\n",
            "    \n",
            "    NOTE: Updates to this dictionary *will* affect name lookups in the current\n",
            "    global scope and vice-versa.\n",
            "\n"
          ],
          "name": "stdout"
        }
      ]
    },
    {
      "cell_type": "code",
      "metadata": {
        "colab": {
          "base_uri": "https://localhost:8080/"
        },
        "id": "7_oUYnwuMBaI",
        "outputId": "7253dea5-c8e8-4798-9d6d-270bad7dc090"
      },
      "source": [
        "globals()"
      ],
      "execution_count": null,
      "outputs": [
        {
          "output_type": "execute_result",
          "data": {
            "text/plain": [
              "{'In': ['',\n",
              "  'num[for num in range(10)]',\n",
              "  \"def sample_function():\\n  var1='Python'\\n  print(f'Zmienna var1: {var1}')\\n  \",\n",
              "  'sample_function()',\n",
              "  'var1',\n",
              "  \"def sample_function(var1):\\n  var2 = var1 +' 3.8'\\n  print(f'Zmienna var1: {var1}')\\n  print(f'Zmienna var2: {var2}')\",\n",
              "  \"sample_function('Python')\",\n",
              "  \"sample_function('Version')\",\n",
              "  \"sample_function = lambda word: len(word.replace(' ',''))\\nsample_function\",\n",
              "  \"sample_function('Python 3.8')\",\n",
              "  \"sample_function('Python   3.8')\",\n",
              "  \"sample_function('Python 3.8')\",\n",
              "  'sample_function.__code__',\n",
              "  'sample_function.__code__.co_varnames',\n",
              "  'sample_function.__code__.co_argument',\n",
              "  'sample_function.__code__.co_argcount',\n",
              "  \"def sample_function():\\n\\n  var1='Python'\\n  def inner_fuction():\\n\\n    print(f'Zmienna var1: {var1}')\\n  inner_fuction()\",\n",
              "  \"sample_function('Igor')\",\n",
              "  'sample_function()',\n",
              "  'inner_function()',\n",
              "  'sample_function()',\n",
              "  'inner_function()',\n",
              "  \"def sample_function():\\n\\n  var1='Python'\\n  def inner_fuction():\\n\\n    print(f'Zmienna var1: {var1}')\\n    print(f'Zmienna var1: {var2}')\\n  var2 = '3.8'\\n  inner_fuction()\",\n",
              "  'sample_function()',\n",
              "  \"def sample_function():\\n\\n  var1='Python'\\n  def inner_fuction():\\n\\n    print(f'Zmienna var1: {var1}')\\n    print(f'Zmienna var1: {var2}')\\n\\n  inner_fuction()\\n  var2 = '3.8'\",\n",
              "  'sample_function()',\n",
              "  \"def sample_function():\\n\\n  var1='Python'\\n  def inner_fuction():\\n\\n    print(f'Zmienna var1: {var1}')\\n    print(f'Zmienna var1: {var2}')\\n  var2 = '3.8'\\n  inner_fuction()\",\n",
              "  \"def sample_function():\\n\\n  var1='Python'\\n  def inner_fuction():\\n\\n    print(f'Zmienna var1: {var1}')\\n    print(f'Zmienna var1: {var2}')\\n  var2 = '3.8'\\n  inner_fuction()\",\n",
              "  'sample_function()',\n",
              "  \"def sample_function():\\n\\n  var1='Python'\\n  def inner_fuction():\\n    var1= 'Java'\\n\\n    print(f'Zmienna var1: {var1}')\\n  print(f'Zmienna var1: {var1}')\\n  inner_fuction()\\n  print(f'Zmienna var1: {var1}')\\nsample_function()\",\n",
              "  '__name__',\n",
              "  'if __name__ == __main__:\\n  print(Hello World)',\n",
              "  \"if __name__ == __main__:\\n  print('Hello World')\",\n",
              "  \"if __name__ ==' __main__':\\n  print('Hello World')\",\n",
              "  \"if __name__ ==' __main__':\\n  print('Hello World')\",\n",
              "  \"if __name__ ==' __main__':\\n  print('Bezoposrednio')\",\n",
              "  \"if __name__ =='__main__':\\n  print('Bezoposrednio')\",\n",
              "  'help(globals)',\n",
              "  'globals()'],\n",
              " 'Out': {8: <function __main__.<lambda>>,\n",
              "  9: 9,\n",
              "  10: 9,\n",
              "  11: 9,\n",
              "  12: <code object <lambda> at 0x7f8cf9c931e0, file \"<ipython-input-8-886a6a58f11a>\", line 1>,\n",
              "  13: ('word',),\n",
              "  15: 1,\n",
              "  30: '__main__'},\n",
              " '_': '__main__',\n",
              " '_10': 9,\n",
              " '_11': 9,\n",
              " '_12': <code object <lambda> at 0x7f8cf9c931e0, file \"<ipython-input-8-886a6a58f11a>\", line 1>,\n",
              " '_13': ('word',),\n",
              " '_15': 1,\n",
              " '_30': '__main__',\n",
              " '_8': <function __main__.<lambda>>,\n",
              " '_9': 9,\n",
              " '__': 1,\n",
              " '___': ('word',),\n",
              " '__builtin__': <module 'builtins' (built-in)>,\n",
              " '__builtins__': <module 'builtins' (built-in)>,\n",
              " '__doc__': 'Automatically created module for IPython interactive environment',\n",
              " '__loader__': None,\n",
              " '__name__': '__main__',\n",
              " '__package__': None,\n",
              " '__spec__': None,\n",
              " '_dh': ['/content'],\n",
              " '_i': 'help(globals)',\n",
              " '_i1': 'num[for num in range(10)]',\n",
              " '_i10': \"sample_function('Python   3.8')\",\n",
              " '_i11': \"sample_function('Python 3.8')\",\n",
              " '_i12': 'sample_function.__code__',\n",
              " '_i13': 'sample_function.__code__.co_varnames',\n",
              " '_i14': 'sample_function.__code__.co_argument',\n",
              " '_i15': 'sample_function.__code__.co_argcount',\n",
              " '_i16': \"def sample_function():\\n\\n  var1='Python'\\n  def inner_fuction():\\n\\n    print(f'Zmienna var1: {var1}')\\n  inner_fuction()\",\n",
              " '_i17': \"sample_function('Igor')\",\n",
              " '_i18': 'sample_function()',\n",
              " '_i19': 'inner_function()',\n",
              " '_i2': \"def sample_function():\\n  var1='Python'\\n  print(f'Zmienna var1: {var1}')\\n  \",\n",
              " '_i20': 'sample_function()',\n",
              " '_i21': 'inner_function()',\n",
              " '_i22': \"def sample_function():\\n\\n  var1='Python'\\n  def inner_fuction():\\n\\n    print(f'Zmienna var1: {var1}')\\n    print(f'Zmienna var1: {var2}')\\n  var2 = '3.8'\\n  inner_fuction()\",\n",
              " '_i23': 'sample_function()',\n",
              " '_i24': \"def sample_function():\\n\\n  var1='Python'\\n  def inner_fuction():\\n\\n    print(f'Zmienna var1: {var1}')\\n    print(f'Zmienna var1: {var2}')\\n\\n  inner_fuction()\\n  var2 = '3.8'\",\n",
              " '_i25': 'sample_function()',\n",
              " '_i26': \"def sample_function():\\n\\n  var1='Python'\\n  def inner_fuction():\\n\\n    print(f'Zmienna var1: {var1}')\\n    print(f'Zmienna var1: {var2}')\\n  var2 = '3.8'\\n  inner_fuction()\",\n",
              " '_i27': \"def sample_function():\\n\\n  var1='Python'\\n  def inner_fuction():\\n\\n    print(f'Zmienna var1: {var1}')\\n    print(f'Zmienna var1: {var2}')\\n  var2 = '3.8'\\n  inner_fuction()\",\n",
              " '_i28': 'sample_function()',\n",
              " '_i29': \"def sample_function():\\n\\n  var1='Python'\\n  def inner_fuction():\\n    var1= 'Java'\\n\\n    print(f'Zmienna var1: {var1}')\\n  print(f'Zmienna var1: {var1}')\\n  inner_fuction()\\n  print(f'Zmienna var1: {var1}')\\nsample_function()\",\n",
              " '_i3': 'sample_function()',\n",
              " '_i30': '__name__',\n",
              " '_i31': 'if __name__ == __main__:\\n  print(Hello World)',\n",
              " '_i32': \"if __name__ == __main__:\\n  print('Hello World')\",\n",
              " '_i33': \"if __name__ ==' __main__':\\n  print('Hello World')\",\n",
              " '_i34': \"if __name__ ==' __main__':\\n  print('Hello World')\",\n",
              " '_i35': \"if __name__ ==' __main__':\\n  print('Bezoposrednio')\",\n",
              " '_i36': \"if __name__ =='__main__':\\n  print('Bezoposrednio')\",\n",
              " '_i37': 'help(globals)',\n",
              " '_i38': 'globals()',\n",
              " '_i4': 'var1',\n",
              " '_i5': \"def sample_function(var1):\\n  var2 = var1 +' 3.8'\\n  print(f'Zmienna var1: {var1}')\\n  print(f'Zmienna var2: {var2}')\",\n",
              " '_i6': \"sample_function('Python')\",\n",
              " '_i7': \"sample_function('Version')\",\n",
              " '_i8': \"sample_function = lambda word: len(word.replace(' ',''))\\nsample_function\",\n",
              " '_i9': \"sample_function('Python 3.8')\",\n",
              " '_ih': ['',\n",
              "  'num[for num in range(10)]',\n",
              "  \"def sample_function():\\n  var1='Python'\\n  print(f'Zmienna var1: {var1}')\\n  \",\n",
              "  'sample_function()',\n",
              "  'var1',\n",
              "  \"def sample_function(var1):\\n  var2 = var1 +' 3.8'\\n  print(f'Zmienna var1: {var1}')\\n  print(f'Zmienna var2: {var2}')\",\n",
              "  \"sample_function('Python')\",\n",
              "  \"sample_function('Version')\",\n",
              "  \"sample_function = lambda word: len(word.replace(' ',''))\\nsample_function\",\n",
              "  \"sample_function('Python 3.8')\",\n",
              "  \"sample_function('Python   3.8')\",\n",
              "  \"sample_function('Python 3.8')\",\n",
              "  'sample_function.__code__',\n",
              "  'sample_function.__code__.co_varnames',\n",
              "  'sample_function.__code__.co_argument',\n",
              "  'sample_function.__code__.co_argcount',\n",
              "  \"def sample_function():\\n\\n  var1='Python'\\n  def inner_fuction():\\n\\n    print(f'Zmienna var1: {var1}')\\n  inner_fuction()\",\n",
              "  \"sample_function('Igor')\",\n",
              "  'sample_function()',\n",
              "  'inner_function()',\n",
              "  'sample_function()',\n",
              "  'inner_function()',\n",
              "  \"def sample_function():\\n\\n  var1='Python'\\n  def inner_fuction():\\n\\n    print(f'Zmienna var1: {var1}')\\n    print(f'Zmienna var1: {var2}')\\n  var2 = '3.8'\\n  inner_fuction()\",\n",
              "  'sample_function()',\n",
              "  \"def sample_function():\\n\\n  var1='Python'\\n  def inner_fuction():\\n\\n    print(f'Zmienna var1: {var1}')\\n    print(f'Zmienna var1: {var2}')\\n\\n  inner_fuction()\\n  var2 = '3.8'\",\n",
              "  'sample_function()',\n",
              "  \"def sample_function():\\n\\n  var1='Python'\\n  def inner_fuction():\\n\\n    print(f'Zmienna var1: {var1}')\\n    print(f'Zmienna var1: {var2}')\\n  var2 = '3.8'\\n  inner_fuction()\",\n",
              "  \"def sample_function():\\n\\n  var1='Python'\\n  def inner_fuction():\\n\\n    print(f'Zmienna var1: {var1}')\\n    print(f'Zmienna var1: {var2}')\\n  var2 = '3.8'\\n  inner_fuction()\",\n",
              "  'sample_function()',\n",
              "  \"def sample_function():\\n\\n  var1='Python'\\n  def inner_fuction():\\n    var1= 'Java'\\n\\n    print(f'Zmienna var1: {var1}')\\n  print(f'Zmienna var1: {var1}')\\n  inner_fuction()\\n  print(f'Zmienna var1: {var1}')\\nsample_function()\",\n",
              "  '__name__',\n",
              "  'if __name__ == __main__:\\n  print(Hello World)',\n",
              "  \"if __name__ == __main__:\\n  print('Hello World')\",\n",
              "  \"if __name__ ==' __main__':\\n  print('Hello World')\",\n",
              "  \"if __name__ ==' __main__':\\n  print('Hello World')\",\n",
              "  \"if __name__ ==' __main__':\\n  print('Bezoposrednio')\",\n",
              "  \"if __name__ =='__main__':\\n  print('Bezoposrednio')\",\n",
              "  'help(globals)',\n",
              "  'globals()'],\n",
              " '_ii': \"if __name__ =='__main__':\\n  print('Bezoposrednio')\",\n",
              " '_iii': \"if __name__ ==' __main__':\\n  print('Bezoposrednio')\",\n",
              " '_oh': {8: <function __main__.<lambda>>,\n",
              "  9: 9,\n",
              "  10: 9,\n",
              "  11: 9,\n",
              "  12: <code object <lambda> at 0x7f8cf9c931e0, file \"<ipython-input-8-886a6a58f11a>\", line 1>,\n",
              "  13: ('word',),\n",
              "  15: 1,\n",
              "  30: '__main__'},\n",
              " '_sh': <module 'IPython.core.shadowns' from '/usr/local/lib/python3.7/dist-packages/IPython/core/shadowns.py'>,\n",
              " 'exit': <IPython.core.autocall.ZMQExitAutocall at 0x7f8d04c7fbd0>,\n",
              " 'get_ipython': <bound method InteractiveShell.get_ipython of <google.colab._shell.Shell object at 0x7f8d074ee850>>,\n",
              " 'quit': <IPython.core.autocall.ZMQExitAutocall at 0x7f8d04c7fbd0>,\n",
              " 'sample_function': <function __main__.sample_function>}"
            ]
          },
          "metadata": {
            "tags": []
          },
          "execution_count": 38
        }
      ]
    },
    {
      "cell_type": "code",
      "metadata": {
        "id": "Hf7-bMl5MIG_"
      },
      "source": [
        "var1 = 'Python'\n",
        "var2 = '3.8'\n",
        "var3 = var1 + ' ' + var2"
      ],
      "execution_count": null,
      "outputs": []
    },
    {
      "cell_type": "code",
      "metadata": {
        "colab": {
          "base_uri": "https://localhost:8080/"
        },
        "id": "MrSG7c27MT9F",
        "outputId": "2dededae-9dce-48eb-8098-7e156610655d"
      },
      "source": [
        "globals()"
      ],
      "execution_count": null,
      "outputs": [
        {
          "output_type": "execute_result",
          "data": {
            "text/plain": [
              "{'In': ['',\n",
              "  'num[for num in range(10)]',\n",
              "  \"def sample_function():\\n  var1='Python'\\n  print(f'Zmienna var1: {var1}')\\n  \",\n",
              "  'sample_function()',\n",
              "  'var1',\n",
              "  \"def sample_function(var1):\\n  var2 = var1 +' 3.8'\\n  print(f'Zmienna var1: {var1}')\\n  print(f'Zmienna var2: {var2}')\",\n",
              "  \"sample_function('Python')\",\n",
              "  \"sample_function('Version')\",\n",
              "  \"sample_function = lambda word: len(word.replace(' ',''))\\nsample_function\",\n",
              "  \"sample_function('Python 3.8')\",\n",
              "  \"sample_function('Python   3.8')\",\n",
              "  \"sample_function('Python 3.8')\",\n",
              "  'sample_function.__code__',\n",
              "  'sample_function.__code__.co_varnames',\n",
              "  'sample_function.__code__.co_argument',\n",
              "  'sample_function.__code__.co_argcount',\n",
              "  \"def sample_function():\\n\\n  var1='Python'\\n  def inner_fuction():\\n\\n    print(f'Zmienna var1: {var1}')\\n  inner_fuction()\",\n",
              "  \"sample_function('Igor')\",\n",
              "  'sample_function()',\n",
              "  'inner_function()',\n",
              "  'sample_function()',\n",
              "  'inner_function()',\n",
              "  \"def sample_function():\\n\\n  var1='Python'\\n  def inner_fuction():\\n\\n    print(f'Zmienna var1: {var1}')\\n    print(f'Zmienna var1: {var2}')\\n  var2 = '3.8'\\n  inner_fuction()\",\n",
              "  'sample_function()',\n",
              "  \"def sample_function():\\n\\n  var1='Python'\\n  def inner_fuction():\\n\\n    print(f'Zmienna var1: {var1}')\\n    print(f'Zmienna var1: {var2}')\\n\\n  inner_fuction()\\n  var2 = '3.8'\",\n",
              "  'sample_function()',\n",
              "  \"def sample_function():\\n\\n  var1='Python'\\n  def inner_fuction():\\n\\n    print(f'Zmienna var1: {var1}')\\n    print(f'Zmienna var1: {var2}')\\n  var2 = '3.8'\\n  inner_fuction()\",\n",
              "  \"def sample_function():\\n\\n  var1='Python'\\n  def inner_fuction():\\n\\n    print(f'Zmienna var1: {var1}')\\n    print(f'Zmienna var1: {var2}')\\n  var2 = '3.8'\\n  inner_fuction()\",\n",
              "  'sample_function()',\n",
              "  \"def sample_function():\\n\\n  var1='Python'\\n  def inner_fuction():\\n    var1= 'Java'\\n\\n    print(f'Zmienna var1: {var1}')\\n  print(f'Zmienna var1: {var1}')\\n  inner_fuction()\\n  print(f'Zmienna var1: {var1}')\\nsample_function()\",\n",
              "  '__name__',\n",
              "  'if __name__ == __main__:\\n  print(Hello World)',\n",
              "  \"if __name__ == __main__:\\n  print('Hello World')\",\n",
              "  \"if __name__ ==' __main__':\\n  print('Hello World')\",\n",
              "  \"if __name__ ==' __main__':\\n  print('Hello World')\",\n",
              "  \"if __name__ ==' __main__':\\n  print('Bezoposrednio')\",\n",
              "  \"if __name__ =='__main__':\\n  print('Bezoposrednio')\",\n",
              "  'help(globals)',\n",
              "  'globals()',\n",
              "  \"var1 = 'Python'\\nvar2 = '3.8'\\nvar3 = var + ' ' + var2\",\n",
              "  \"var1 = 'Python'\\nvar2 = '3.8'\\nvar3 = var1 + ' ' + var2\",\n",
              "  'globals()'],\n",
              " 'Out': {8: <function __main__.<lambda>>,\n",
              "  9: 9,\n",
              "  10: 9,\n",
              "  11: 9,\n",
              "  12: <code object <lambda> at 0x7f8cf9c931e0, file \"<ipython-input-8-886a6a58f11a>\", line 1>,\n",
              "  13: ('word',),\n",
              "  15: 1,\n",
              "  30: '__main__',\n",
              "  38: {...}},\n",
              " '_': {...},\n",
              " '_10': 9,\n",
              " '_11': 9,\n",
              " '_12': <code object <lambda> at 0x7f8cf9c931e0, file \"<ipython-input-8-886a6a58f11a>\", line 1>,\n",
              " '_13': ('word',),\n",
              " '_15': 1,\n",
              " '_30': '__main__',\n",
              " '_38': {...},\n",
              " '_8': <function __main__.<lambda>>,\n",
              " '_9': 9,\n",
              " '__': '__main__',\n",
              " '___': 1,\n",
              " '__builtin__': <module 'builtins' (built-in)>,\n",
              " '__builtins__': <module 'builtins' (built-in)>,\n",
              " '__doc__': 'Automatically created module for IPython interactive environment',\n",
              " '__loader__': None,\n",
              " '__name__': '__main__',\n",
              " '__package__': None,\n",
              " '__spec__': None,\n",
              " '_dh': ['/content'],\n",
              " '_i': \"var1 = 'Python'\\nvar2 = '3.8'\\nvar3 = var1 + ' ' + var2\",\n",
              " '_i1': 'num[for num in range(10)]',\n",
              " '_i10': \"sample_function('Python   3.8')\",\n",
              " '_i11': \"sample_function('Python 3.8')\",\n",
              " '_i12': 'sample_function.__code__',\n",
              " '_i13': 'sample_function.__code__.co_varnames',\n",
              " '_i14': 'sample_function.__code__.co_argument',\n",
              " '_i15': 'sample_function.__code__.co_argcount',\n",
              " '_i16': \"def sample_function():\\n\\n  var1='Python'\\n  def inner_fuction():\\n\\n    print(f'Zmienna var1: {var1}')\\n  inner_fuction()\",\n",
              " '_i17': \"sample_function('Igor')\",\n",
              " '_i18': 'sample_function()',\n",
              " '_i19': 'inner_function()',\n",
              " '_i2': \"def sample_function():\\n  var1='Python'\\n  print(f'Zmienna var1: {var1}')\\n  \",\n",
              " '_i20': 'sample_function()',\n",
              " '_i21': 'inner_function()',\n",
              " '_i22': \"def sample_function():\\n\\n  var1='Python'\\n  def inner_fuction():\\n\\n    print(f'Zmienna var1: {var1}')\\n    print(f'Zmienna var1: {var2}')\\n  var2 = '3.8'\\n  inner_fuction()\",\n",
              " '_i23': 'sample_function()',\n",
              " '_i24': \"def sample_function():\\n\\n  var1='Python'\\n  def inner_fuction():\\n\\n    print(f'Zmienna var1: {var1}')\\n    print(f'Zmienna var1: {var2}')\\n\\n  inner_fuction()\\n  var2 = '3.8'\",\n",
              " '_i25': 'sample_function()',\n",
              " '_i26': \"def sample_function():\\n\\n  var1='Python'\\n  def inner_fuction():\\n\\n    print(f'Zmienna var1: {var1}')\\n    print(f'Zmienna var1: {var2}')\\n  var2 = '3.8'\\n  inner_fuction()\",\n",
              " '_i27': \"def sample_function():\\n\\n  var1='Python'\\n  def inner_fuction():\\n\\n    print(f'Zmienna var1: {var1}')\\n    print(f'Zmienna var1: {var2}')\\n  var2 = '3.8'\\n  inner_fuction()\",\n",
              " '_i28': 'sample_function()',\n",
              " '_i29': \"def sample_function():\\n\\n  var1='Python'\\n  def inner_fuction():\\n    var1= 'Java'\\n\\n    print(f'Zmienna var1: {var1}')\\n  print(f'Zmienna var1: {var1}')\\n  inner_fuction()\\n  print(f'Zmienna var1: {var1}')\\nsample_function()\",\n",
              " '_i3': 'sample_function()',\n",
              " '_i30': '__name__',\n",
              " '_i31': 'if __name__ == __main__:\\n  print(Hello World)',\n",
              " '_i32': \"if __name__ == __main__:\\n  print('Hello World')\",\n",
              " '_i33': \"if __name__ ==' __main__':\\n  print('Hello World')\",\n",
              " '_i34': \"if __name__ ==' __main__':\\n  print('Hello World')\",\n",
              " '_i35': \"if __name__ ==' __main__':\\n  print('Bezoposrednio')\",\n",
              " '_i36': \"if __name__ =='__main__':\\n  print('Bezoposrednio')\",\n",
              " '_i37': 'help(globals)',\n",
              " '_i38': 'globals()',\n",
              " '_i39': \"var1 = 'Python'\\nvar2 = '3.8'\\nvar3 = var + ' ' + var2\",\n",
              " '_i4': 'var1',\n",
              " '_i40': \"var1 = 'Python'\\nvar2 = '3.8'\\nvar3 = var1 + ' ' + var2\",\n",
              " '_i41': 'globals()',\n",
              " '_i5': \"def sample_function(var1):\\n  var2 = var1 +' 3.8'\\n  print(f'Zmienna var1: {var1}')\\n  print(f'Zmienna var2: {var2}')\",\n",
              " '_i6': \"sample_function('Python')\",\n",
              " '_i7': \"sample_function('Version')\",\n",
              " '_i8': \"sample_function = lambda word: len(word.replace(' ',''))\\nsample_function\",\n",
              " '_i9': \"sample_function('Python 3.8')\",\n",
              " '_ih': ['',\n",
              "  'num[for num in range(10)]',\n",
              "  \"def sample_function():\\n  var1='Python'\\n  print(f'Zmienna var1: {var1}')\\n  \",\n",
              "  'sample_function()',\n",
              "  'var1',\n",
              "  \"def sample_function(var1):\\n  var2 = var1 +' 3.8'\\n  print(f'Zmienna var1: {var1}')\\n  print(f'Zmienna var2: {var2}')\",\n",
              "  \"sample_function('Python')\",\n",
              "  \"sample_function('Version')\",\n",
              "  \"sample_function = lambda word: len(word.replace(' ',''))\\nsample_function\",\n",
              "  \"sample_function('Python 3.8')\",\n",
              "  \"sample_function('Python   3.8')\",\n",
              "  \"sample_function('Python 3.8')\",\n",
              "  'sample_function.__code__',\n",
              "  'sample_function.__code__.co_varnames',\n",
              "  'sample_function.__code__.co_argument',\n",
              "  'sample_function.__code__.co_argcount',\n",
              "  \"def sample_function():\\n\\n  var1='Python'\\n  def inner_fuction():\\n\\n    print(f'Zmienna var1: {var1}')\\n  inner_fuction()\",\n",
              "  \"sample_function('Igor')\",\n",
              "  'sample_function()',\n",
              "  'inner_function()',\n",
              "  'sample_function()',\n",
              "  'inner_function()',\n",
              "  \"def sample_function():\\n\\n  var1='Python'\\n  def inner_fuction():\\n\\n    print(f'Zmienna var1: {var1}')\\n    print(f'Zmienna var1: {var2}')\\n  var2 = '3.8'\\n  inner_fuction()\",\n",
              "  'sample_function()',\n",
              "  \"def sample_function():\\n\\n  var1='Python'\\n  def inner_fuction():\\n\\n    print(f'Zmienna var1: {var1}')\\n    print(f'Zmienna var1: {var2}')\\n\\n  inner_fuction()\\n  var2 = '3.8'\",\n",
              "  'sample_function()',\n",
              "  \"def sample_function():\\n\\n  var1='Python'\\n  def inner_fuction():\\n\\n    print(f'Zmienna var1: {var1}')\\n    print(f'Zmienna var1: {var2}')\\n  var2 = '3.8'\\n  inner_fuction()\",\n",
              "  \"def sample_function():\\n\\n  var1='Python'\\n  def inner_fuction():\\n\\n    print(f'Zmienna var1: {var1}')\\n    print(f'Zmienna var1: {var2}')\\n  var2 = '3.8'\\n  inner_fuction()\",\n",
              "  'sample_function()',\n",
              "  \"def sample_function():\\n\\n  var1='Python'\\n  def inner_fuction():\\n    var1= 'Java'\\n\\n    print(f'Zmienna var1: {var1}')\\n  print(f'Zmienna var1: {var1}')\\n  inner_fuction()\\n  print(f'Zmienna var1: {var1}')\\nsample_function()\",\n",
              "  '__name__',\n",
              "  'if __name__ == __main__:\\n  print(Hello World)',\n",
              "  \"if __name__ == __main__:\\n  print('Hello World')\",\n",
              "  \"if __name__ ==' __main__':\\n  print('Hello World')\",\n",
              "  \"if __name__ ==' __main__':\\n  print('Hello World')\",\n",
              "  \"if __name__ ==' __main__':\\n  print('Bezoposrednio')\",\n",
              "  \"if __name__ =='__main__':\\n  print('Bezoposrednio')\",\n",
              "  'help(globals)',\n",
              "  'globals()',\n",
              "  \"var1 = 'Python'\\nvar2 = '3.8'\\nvar3 = var + ' ' + var2\",\n",
              "  \"var1 = 'Python'\\nvar2 = '3.8'\\nvar3 = var1 + ' ' + var2\",\n",
              "  'globals()'],\n",
              " '_ii': \"var1 = 'Python'\\nvar2 = '3.8'\\nvar3 = var + ' ' + var2\",\n",
              " '_iii': 'globals()',\n",
              " '_oh': {8: <function __main__.<lambda>>,\n",
              "  9: 9,\n",
              "  10: 9,\n",
              "  11: 9,\n",
              "  12: <code object <lambda> at 0x7f8cf9c931e0, file \"<ipython-input-8-886a6a58f11a>\", line 1>,\n",
              "  13: ('word',),\n",
              "  15: 1,\n",
              "  30: '__main__',\n",
              "  38: {...}},\n",
              " '_sh': <module 'IPython.core.shadowns' from '/usr/local/lib/python3.7/dist-packages/IPython/core/shadowns.py'>,\n",
              " 'exit': <IPython.core.autocall.ZMQExitAutocall at 0x7f8d04c7fbd0>,\n",
              " 'get_ipython': <bound method InteractiveShell.get_ipython of <google.colab._shell.Shell object at 0x7f8d074ee850>>,\n",
              " 'quit': <IPython.core.autocall.ZMQExitAutocall at 0x7f8d04c7fbd0>,\n",
              " 'sample_function': <function __main__.sample_function>,\n",
              " 'var1': 'Python',\n",
              " 'var2': '3.8',\n",
              " 'var3': 'Python 3.8'}"
            ]
          },
          "metadata": {
            "tags": []
          },
          "execution_count": 41
        }
      ]
    },
    {
      "cell_type": "markdown",
      "metadata": {
        "id": "xCBRyh-cMgD5"
      },
      "source": [
        "### Zmienna globalna"
      ]
    },
    {
      "cell_type": "code",
      "metadata": {
        "colab": {
          "base_uri": "https://localhost:8080/"
        },
        "id": "U6QkqYxEMhcB",
        "outputId": "6bc22890-7d53-48aa-d609-5df9240361f3"
      },
      "source": [
        "var1 = 10\n",
        "print(var1)"
      ],
      "execution_count": null,
      "outputs": [
        {
          "output_type": "stream",
          "text": [
            "10\n"
          ],
          "name": "stdout"
        }
      ]
    },
    {
      "cell_type": "code",
      "metadata": {
        "colab": {
          "base_uri": "https://localhost:8080/"
        },
        "id": "zxcl3CXiMkx3",
        "outputId": "18aad8fa-0ea8-4bb3-92f6-65f574b85274"
      },
      "source": [
        "def sample_function():\n",
        "  print(var1)\n",
        "\n",
        "sample_function()"
      ],
      "execution_count": null,
      "outputs": [
        {
          "output_type": "stream",
          "text": [
            "10\n"
          ],
          "name": "stdout"
        }
      ]
    },
    {
      "cell_type": "code",
      "metadata": {
        "colab": {
          "base_uri": "https://localhost:8080/"
        },
        "id": "AkYLh2v2MwYI",
        "outputId": "958ff034-9d3d-4567-edac-bfa2df4bb47e"
      },
      "source": [
        "def sample_function():\n",
        "  var1 = '3.8'\n",
        "  print(var1)\n",
        "\n",
        "sample_function()"
      ],
      "execution_count": null,
      "outputs": [
        {
          "output_type": "stream",
          "text": [
            "3.8\n"
          ],
          "name": "stdout"
        }
      ]
    },
    {
      "cell_type": "code",
      "metadata": {
        "colab": {
          "base_uri": "https://localhost:8080/"
        },
        "id": "fjuU9so4M2rF",
        "outputId": "f0ea8535-6850-4c94-bd77-a7c852cd64b4"
      },
      "source": [
        "var1 = 10\n",
        "\n",
        "def sample_function():\n",
        "  var1 = '3.8'\n",
        "  print(var1)\n",
        "print(var1)\n",
        "sample_function()\n",
        "print(var1)"
      ],
      "execution_count": null,
      "outputs": [
        {
          "output_type": "stream",
          "text": [
            "10\n",
            "3.8\n",
            "10\n"
          ],
          "name": "stdout"
        }
      ]
    }
  ]
}