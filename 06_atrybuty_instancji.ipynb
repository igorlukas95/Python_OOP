{
  "nbformat": 4,
  "nbformat_minor": 0,
  "metadata": {
    "colab": {
      "name": "06_atrybuty_instancji",
      "provenance": [],
      "authorship_tag": "ABX9TyNf8VEZQl+lG+FGzsLpkuzZ",
      "include_colab_link": true
    },
    "kernelspec": {
      "name": "python3",
      "display_name": "Python 3"
    },
    "language_info": {
      "name": "python"
    }
  },
  "cells": [
    {
      "cell_type": "markdown",
      "metadata": {
        "id": "view-in-github",
        "colab_type": "text"
      },
      "source": [
        "<a href=\"https://colab.research.google.com/github/igorlukas95/Python_OOP/blob/main/06_atrybuty_instancji.ipynb\" target=\"_parent\"><img src=\"https://colab.research.google.com/assets/colab-badge.svg\" alt=\"Open In Colab\"/></a>"
      ]
    },
    {
      "cell_type": "markdown",
      "metadata": {
        "id": "LCsHr1nEGp-c"
      },
      "source": [
        "### Tworzenie instacji klasy"
      ]
    },
    {
      "cell_type": "code",
      "metadata": {
        "colab": {
          "base_uri": "https://localhost:8080/"
        },
        "id": "dLLdIPkhGkBs",
        "outputId": "38ecc209-8f99-4238-affc-d27055b0a402"
      },
      "source": [
        "class Book:\n",
        "  language = 'ENG'\n",
        "  def show():\n",
        "    print(Book.language)\n",
        "Book.__dict__"
      ],
      "execution_count": null,
      "outputs": [
        {
          "output_type": "execute_result",
          "data": {
            "text/plain": [
              "mappingproxy({'__dict__': <attribute '__dict__' of 'Book' objects>,\n",
              "              '__doc__': None,\n",
              "              '__module__': '__main__',\n",
              "              '__weakref__': <attribute '__weakref__' of 'Book' objects>,\n",
              "              'language': 'ENG',\n",
              "              'show': <function __main__.Book.show>})"
            ]
          },
          "metadata": {
            "tags": []
          },
          "execution_count": 2
        }
      ]
    },
    {
      "cell_type": "code",
      "metadata": {
        "colab": {
          "base_uri": "https://localhost:8080/"
        },
        "id": "YDbHMcgvGta8",
        "outputId": "334ab54a-5da2-4426-c5cf-504fe9103e98"
      },
      "source": [
        "Book()"
      ],
      "execution_count": null,
      "outputs": [
        {
          "output_type": "execute_result",
          "data": {
            "text/plain": [
              "<__main__.Book at 0x7f8512fdcc50>"
            ]
          },
          "metadata": {
            "tags": []
          },
          "execution_count": 3
        }
      ]
    },
    {
      "cell_type": "code",
      "metadata": {
        "colab": {
          "base_uri": "https://localhost:8080/"
        },
        "id": "fTxXU6XkG58u",
        "outputId": "3a70fd34-f1f7-49b0-f1b4-393a55049b4d"
      },
      "source": [
        "book1 = Book()\n",
        "book1"
      ],
      "execution_count": null,
      "outputs": [
        {
          "output_type": "execute_result",
          "data": {
            "text/plain": [
              "<__main__.Book at 0x7f850efce150>"
            ]
          },
          "metadata": {
            "tags": []
          },
          "execution_count": 6
        }
      ]
    },
    {
      "cell_type": "code",
      "metadata": {
        "colab": {
          "base_uri": "https://localhost:8080/"
        },
        "id": "vMKO7CyUHIY1",
        "outputId": "8be2ff3f-4a70-4a9a-efdc-319d3d25e134"
      },
      "source": [
        "type(book1), type(Book)"
      ],
      "execution_count": null,
      "outputs": [
        {
          "output_type": "execute_result",
          "data": {
            "text/plain": [
              "(__main__.Book, type)"
            ]
          },
          "metadata": {
            "tags": []
          },
          "execution_count": 7
        }
      ]
    },
    {
      "cell_type": "code",
      "metadata": {
        "colab": {
          "base_uri": "https://localhost:8080/"
        },
        "id": "IElEUSfyHLeH",
        "outputId": "6721d824-3783-43ff-9dcc-668aba1e8354"
      },
      "source": [
        "isinstance(book1,Book)"
      ],
      "execution_count": null,
      "outputs": [
        {
          "output_type": "execute_result",
          "data": {
            "text/plain": [
              "True"
            ]
          },
          "metadata": {
            "tags": []
          },
          "execution_count": 8
        }
      ]
    },
    {
      "cell_type": "markdown",
      "metadata": {
        "id": "6mcPO5ruHUxc"
      },
      "source": [
        "### (Wbudowane) atrybuty klasy vs (wbudowane) atrybuty instacji"
      ]
    },
    {
      "cell_type": "code",
      "metadata": {
        "colab": {
          "base_uri": "https://localhost:8080/"
        },
        "id": "wB6QMyArHZae",
        "outputId": "06de0d69-8123-492a-ca11-4df7cd5d9c3c"
      },
      "source": [
        "class Book:\n",
        "  language = 'ENG'\n",
        "  def show():\n",
        "    print(Book.language)\n",
        "Book.__dict__"
      ],
      "execution_count": null,
      "outputs": [
        {
          "output_type": "execute_result",
          "data": {
            "text/plain": [
              "mappingproxy({'__dict__': <attribute '__dict__' of 'Book' objects>,\n",
              "              '__doc__': None,\n",
              "              '__module__': '__main__',\n",
              "              '__weakref__': <attribute '__weakref__' of 'Book' objects>,\n",
              "              'language': 'ENG',\n",
              "              'show': <function __main__.Book.show>})"
            ]
          },
          "metadata": {
            "tags": []
          },
          "execution_count": 9
        }
      ]
    },
    {
      "cell_type": "code",
      "metadata": {
        "colab": {
          "base_uri": "https://localhost:8080/"
        },
        "id": "Pteo0qyiHdIY",
        "outputId": "d63e13d2-da2d-4eac-df38-a7af9ba1910b"
      },
      "source": [
        "book1 = Book()\n",
        "book1"
      ],
      "execution_count": null,
      "outputs": [
        {
          "output_type": "execute_result",
          "data": {
            "text/plain": [
              "<__main__.Book at 0x7f850efd9250>"
            ]
          },
          "metadata": {
            "tags": []
          },
          "execution_count": 10
        }
      ]
    },
    {
      "cell_type": "code",
      "metadata": {
        "colab": {
          "base_uri": "https://localhost:8080/"
        },
        "id": "3RlZrjtNHhRa",
        "outputId": "c75fbf2c-34d2-4f46-dc97-3230d64844b3"
      },
      "source": [
        "book1.__dict__"
      ],
      "execution_count": null,
      "outputs": [
        {
          "output_type": "execute_result",
          "data": {
            "text/plain": [
              "{}"
            ]
          },
          "metadata": {
            "tags": []
          },
          "execution_count": 11
        }
      ]
    },
    {
      "cell_type": "code",
      "metadata": {
        "id": "NFjlgRwVHi1D"
      },
      "source": [
        ""
      ],
      "execution_count": null,
      "outputs": []
    },
    {
      "cell_type": "markdown",
      "metadata": {
        "id": "0BrKwLotKY8A"
      },
      "source": [
        "### Atrybuty klas oraz atrybuty instancji"
      ]
    },
    {
      "cell_type": "code",
      "metadata": {
        "colab": {
          "base_uri": "https://localhost:8080/"
        },
        "id": "xEq7hW_7KdEy",
        "outputId": "24220759-92fa-4060-e036-2f23ea95d701"
      },
      "source": [
        "class Book:\n",
        "  language = 'ENG'\n",
        "Book.__dict__"
      ],
      "execution_count": null,
      "outputs": [
        {
          "output_type": "execute_result",
          "data": {
            "text/plain": [
              "mappingproxy({'__dict__': <attribute '__dict__' of 'Book' objects>,\n",
              "              '__doc__': None,\n",
              "              '__module__': '__main__',\n",
              "              '__weakref__': <attribute '__weakref__' of 'Book' objects>,\n",
              "              'language': 'ENG'})"
            ]
          },
          "metadata": {
            "tags": []
          },
          "execution_count": 12
        }
      ]
    },
    {
      "cell_type": "code",
      "metadata": {
        "colab": {
          "base_uri": "https://localhost:8080/"
        },
        "id": "k6TpXvgyKhtf",
        "outputId": "55f6ad36-ffb6-43d7-a02d-e2df2be9b361"
      },
      "source": [
        "book1 = Book()\n",
        "book2 = Book()\n",
        "book1, book2"
      ],
      "execution_count": null,
      "outputs": [
        {
          "output_type": "execute_result",
          "data": {
            "text/plain": [
              "(<__main__.Book at 0x7f850f034c10>, <__main__.Book at 0x7f850f034810>)"
            ]
          },
          "metadata": {
            "tags": []
          },
          "execution_count": 13
        }
      ]
    },
    {
      "cell_type": "code",
      "metadata": {
        "colab": {
          "base_uri": "https://localhost:8080/"
        },
        "id": "PeDV1svQKmt4",
        "outputId": "8560f431-ab13-4207-b5d2-f30befabbdc6"
      },
      "source": [
        "book1 is book2"
      ],
      "execution_count": null,
      "outputs": [
        {
          "output_type": "execute_result",
          "data": {
            "text/plain": [
              "False"
            ]
          },
          "metadata": {
            "tags": []
          },
          "execution_count": 14
        }
      ]
    },
    {
      "cell_type": "code",
      "metadata": {
        "colab": {
          "base_uri": "https://localhost:8080/"
        },
        "id": "lTH_jcGxKpLJ",
        "outputId": "107b3426-a163-4736-d5b0-fb340cd124bf"
      },
      "source": [
        "book1.__dict__, book2.__dict__"
      ],
      "execution_count": null,
      "outputs": [
        {
          "output_type": "execute_result",
          "data": {
            "text/plain": [
              "({}, {})"
            ]
          },
          "metadata": {
            "tags": []
          },
          "execution_count": 15
        }
      ]
    },
    {
      "cell_type": "code",
      "metadata": {
        "colab": {
          "base_uri": "https://localhost:8080/"
        },
        "id": "tEXyvl8HKtm7",
        "outputId": "0ef6ad55-84e2-4867-e439-da0233c00d38"
      },
      "source": [
        "book1.language, book2.language"
      ],
      "execution_count": null,
      "outputs": [
        {
          "output_type": "execute_result",
          "data": {
            "text/plain": [
              "('ENG', 'ENG')"
            ]
          },
          "metadata": {
            "tags": []
          },
          "execution_count": 16
        }
      ]
    },
    {
      "cell_type": "code",
      "metadata": {
        "colab": {
          "base_uri": "https://localhost:8080/"
        },
        "id": "uzQw_pppKwc1",
        "outputId": "d59254b6-c37a-4a07-91d9-4039235bef9e"
      },
      "source": [
        "Book.author ='Adam Mickiewicz'\n",
        "Book.__dict__"
      ],
      "execution_count": null,
      "outputs": [
        {
          "output_type": "execute_result",
          "data": {
            "text/plain": [
              "mappingproxy({'__dict__': <attribute '__dict__' of 'Book' objects>,\n",
              "              '__doc__': None,\n",
              "              '__module__': '__main__',\n",
              "              '__weakref__': <attribute '__weakref__' of 'Book' objects>,\n",
              "              'author': 'Adam Mickiewicz',\n",
              "              'language': 'ENG'})"
            ]
          },
          "metadata": {
            "tags": []
          },
          "execution_count": 18
        }
      ]
    },
    {
      "cell_type": "code",
      "metadata": {
        "colab": {
          "base_uri": "https://localhost:8080/",
          "height": 35
        },
        "id": "3uQ4LSIrKz6O",
        "outputId": "c6f1efbb-665b-41f8-86d5-800d6b74b5e7"
      },
      "source": [
        "Book.author"
      ],
      "execution_count": null,
      "outputs": [
        {
          "output_type": "execute_result",
          "data": {
            "application/vnd.google.colaboratory.intrinsic+json": {
              "type": "string"
            },
            "text/plain": [
              "'Adam Mickiewicz'"
            ]
          },
          "metadata": {
            "tags": []
          },
          "execution_count": 19
        }
      ]
    },
    {
      "cell_type": "code",
      "metadata": {
        "colab": {
          "base_uri": "https://localhost:8080/",
          "height": 35
        },
        "id": "vyAR_61IK4RY",
        "outputId": "beec3418-90cb-47a0-a98f-fd4608742675"
      },
      "source": [
        "book1.author"
      ],
      "execution_count": null,
      "outputs": [
        {
          "output_type": "execute_result",
          "data": {
            "application/vnd.google.colaboratory.intrinsic+json": {
              "type": "string"
            },
            "text/plain": [
              "'Adam Mickiewicz'"
            ]
          },
          "metadata": {
            "tags": []
          },
          "execution_count": 20
        }
      ]
    },
    {
      "cell_type": "code",
      "metadata": {
        "colab": {
          "base_uri": "https://localhost:8080/",
          "height": 35
        },
        "id": "kJlwreVeK5lR",
        "outputId": "86c30385-565c-4b33-cc8b-b037d473f1b0"
      },
      "source": [
        "book2.author"
      ],
      "execution_count": null,
      "outputs": [
        {
          "output_type": "execute_result",
          "data": {
            "application/vnd.google.colaboratory.intrinsic+json": {
              "type": "string"
            },
            "text/plain": [
              "'Adam Mickiewicz'"
            ]
          },
          "metadata": {
            "tags": []
          },
          "execution_count": 22
        }
      ]
    },
    {
      "cell_type": "code",
      "metadata": {
        "colab": {
          "base_uri": "https://localhost:8080/"
        },
        "id": "COP7u0fPK6jR",
        "outputId": "ddce31d4-f41c-4795-b00d-6d21e1c51e71"
      },
      "source": [
        "book1.__dict__"
      ],
      "execution_count": null,
      "outputs": [
        {
          "output_type": "execute_result",
          "data": {
            "text/plain": [
              "{}"
            ]
          },
          "metadata": {
            "tags": []
          },
          "execution_count": 23
        }
      ]
    },
    {
      "cell_type": "code",
      "metadata": {
        "colab": {
          "base_uri": "https://localhost:8080/",
          "height": 35
        },
        "id": "XU_wqEyzK9iz",
        "outputId": "bee9cf4c-5922-4f02-89ad-1ed20406e303"
      },
      "source": [
        "book1.author"
      ],
      "execution_count": null,
      "outputs": [
        {
          "output_type": "execute_result",
          "data": {
            "application/vnd.google.colaboratory.intrinsic+json": {
              "type": "string"
            },
            "text/plain": [
              "'Adam Mickiewicz'"
            ]
          },
          "metadata": {
            "tags": []
          },
          "execution_count": 24
        }
      ]
    },
    {
      "cell_type": "code",
      "metadata": {
        "id": "pyaU_hXqLF9Q"
      },
      "source": [
        "book1.author = 'Stanislaw Lem'"
      ],
      "execution_count": null,
      "outputs": []
    },
    {
      "cell_type": "code",
      "metadata": {
        "colab": {
          "base_uri": "https://localhost:8080/"
        },
        "id": "g8pF5JIFLI1B",
        "outputId": "1a9dcd2d-77a7-4f1f-f590-e71581c339aa"
      },
      "source": [
        "book1.author,book2.author"
      ],
      "execution_count": null,
      "outputs": [
        {
          "output_type": "execute_result",
          "data": {
            "text/plain": [
              "('Stanislaw Lem', 'Adam Mickiewicz')"
            ]
          },
          "metadata": {
            "tags": []
          },
          "execution_count": 26
        }
      ]
    },
    {
      "cell_type": "code",
      "metadata": {
        "colab": {
          "base_uri": "https://localhost:8080/"
        },
        "id": "jnOGSRchLLer",
        "outputId": "9331252d-a9fc-4fa1-cee2-055d6e18b076"
      },
      "source": [
        "book1.__dict__, book2.__dict__"
      ],
      "execution_count": null,
      "outputs": [
        {
          "output_type": "execute_result",
          "data": {
            "text/plain": [
              "({'author': 'Stanislaw Lem'}, {})"
            ]
          },
          "metadata": {
            "tags": []
          },
          "execution_count": 27
        }
      ]
    },
    {
      "cell_type": "code",
      "metadata": {
        "id": "bI7mdwDaLQUN"
      },
      "source": [
        "del book1.author"
      ],
      "execution_count": null,
      "outputs": []
    },
    {
      "cell_type": "code",
      "metadata": {
        "colab": {
          "base_uri": "https://localhost:8080/"
        },
        "id": "j51yE5RKLiPm",
        "outputId": "3b219031-76aa-46b2-d0ff-83691154bff8"
      },
      "source": [
        "book1.__dict__, book2.__dict__"
      ],
      "execution_count": null,
      "outputs": [
        {
          "output_type": "execute_result",
          "data": {
            "text/plain": [
              "({}, {})"
            ]
          },
          "metadata": {
            "tags": []
          },
          "execution_count": 29
        }
      ]
    },
    {
      "cell_type": "code",
      "metadata": {
        "colab": {
          "base_uri": "https://localhost:8080/"
        },
        "id": "fsgswIg8LlSg",
        "outputId": "45383878-b722-487a-cd24-4eba8d3e3c3f"
      },
      "source": [
        "book1.author, book2.author"
      ],
      "execution_count": null,
      "outputs": [
        {
          "output_type": "execute_result",
          "data": {
            "text/plain": [
              "('Adam Mickiewicz', 'Adam Mickiewicz')"
            ]
          },
          "metadata": {
            "tags": []
          },
          "execution_count": 31
        }
      ]
    },
    {
      "cell_type": "code",
      "metadata": {
        "colab": {
          "base_uri": "https://localhost:8080/"
        },
        "id": "vtRvi9uZLp2M",
        "outputId": "adea01fb-d0af-44c6-eae0-2dce94b2fb3c"
      },
      "source": [
        "class Book:\n",
        "  language = 'PL'\n",
        "Book.__dict__"
      ],
      "execution_count": null,
      "outputs": [
        {
          "output_type": "execute_result",
          "data": {
            "text/plain": [
              "mappingproxy({'__dict__': <attribute '__dict__' of 'Book' objects>,\n",
              "              '__doc__': None,\n",
              "              '__module__': '__main__',\n",
              "              '__weakref__': <attribute '__weakref__' of 'Book' objects>,\n",
              "              'language': 'PL'})"
            ]
          },
          "metadata": {
            "tags": []
          },
          "execution_count": 33
        }
      ]
    },
    {
      "cell_type": "code",
      "metadata": {
        "colab": {
          "base_uri": "https://localhost:8080/"
        },
        "id": "U6fC-dqpLzsQ",
        "outputId": "02b9100a-16c5-4e86-aaa1-412b4beb61e0"
      },
      "source": [
        "book1 = Book()\n",
        "book2 = Book()\n",
        "book1, book2"
      ],
      "execution_count": null,
      "outputs": [
        {
          "output_type": "execute_result",
          "data": {
            "text/plain": [
              "(<__main__.Book at 0x7f850ef7fb90>, <__main__.Book at 0x7f850ef7f9d0>)"
            ]
          },
          "metadata": {
            "tags": []
          },
          "execution_count": 34
        }
      ]
    },
    {
      "cell_type": "code",
      "metadata": {
        "colab": {
          "base_uri": "https://localhost:8080/"
        },
        "id": "RIGqSvLyL2lF",
        "outputId": "ca300961-a9d6-4462-9031-e4bbcb31a527"
      },
      "source": [
        "book1.__dict__, book2.__dict__"
      ],
      "execution_count": null,
      "outputs": [
        {
          "output_type": "execute_result",
          "data": {
            "text/plain": [
              "({}, {})"
            ]
          },
          "metadata": {
            "tags": []
          },
          "execution_count": 35
        }
      ]
    },
    {
      "cell_type": "code",
      "metadata": {
        "id": "oFqnTQ3JL8Dk"
      },
      "source": [
        "book1.title = 'Pan Tadeusz'\n",
        "book2.year = 1995"
      ],
      "execution_count": null,
      "outputs": []
    },
    {
      "cell_type": "code",
      "metadata": {
        "colab": {
          "base_uri": "https://localhost:8080/"
        },
        "id": "V9ZrNFM_MB_v",
        "outputId": "f2c879ba-8a9e-42c6-cd4e-30b070af5f1e"
      },
      "source": [
        "book1.__dict__, book2.__dict__"
      ],
      "execution_count": null,
      "outputs": [
        {
          "output_type": "execute_result",
          "data": {
            "text/plain": [
              "({'title': 'Pan Tadeusz'}, {'year': 1995})"
            ]
          },
          "metadata": {
            "tags": []
          },
          "execution_count": 38
        }
      ]
    },
    {
      "cell_type": "code",
      "metadata": {
        "colab": {
          "base_uri": "https://localhost:8080/"
        },
        "id": "_ywNz9JPMFCR",
        "outputId": "ea38e105-e1ff-485c-d62e-5877bc5107b5"
      },
      "source": [
        "Book.__dict__"
      ],
      "execution_count": null,
      "outputs": [
        {
          "output_type": "execute_result",
          "data": {
            "text/plain": [
              "mappingproxy({'__dict__': <attribute '__dict__' of 'Book' objects>,\n",
              "              '__doc__': None,\n",
              "              '__module__': '__main__',\n",
              "              '__weakref__': <attribute '__weakref__' of 'Book' objects>,\n",
              "              'language': 'PL'})"
            ]
          },
          "metadata": {
            "tags": []
          },
          "execution_count": 39
        }
      ]
    },
    {
      "cell_type": "code",
      "metadata": {
        "id": "mqGSsn7fMR2X"
      },
      "source": [
        ""
      ],
      "execution_count": null,
      "outputs": []
    },
    {
      "cell_type": "markdown",
      "metadata": {
        "id": "PLQXIHVIMWb5"
      },
      "source": [
        "### Przykład"
      ]
    },
    {
      "cell_type": "code",
      "metadata": {
        "colab": {
          "base_uri": "https://localhost:8080/"
        },
        "id": "SL-S0CjMMXep",
        "outputId": "6489abd7-928a-43e3-8222-ad3d524f2456"
      },
      "source": [
        "class Book:\n",
        "  language = 'PL'\n",
        "  author = 'Mickiewicz'\n",
        "Book.__dict__"
      ],
      "execution_count": null,
      "outputs": [
        {
          "output_type": "execute_result",
          "data": {
            "text/plain": [
              "mappingproxy({'__dict__': <attribute '__dict__' of 'Book' objects>,\n",
              "              '__doc__': None,\n",
              "              '__module__': '__main__',\n",
              "              '__weakref__': <attribute '__weakref__' of 'Book' objects>,\n",
              "              'author': 'Mickiewicz',\n",
              "              'language': 'PL'})"
            ]
          },
          "metadata": {
            "tags": []
          },
          "execution_count": 40
        }
      ]
    },
    {
      "cell_type": "code",
      "metadata": {
        "colab": {
          "base_uri": "https://localhost:8080/"
        },
        "id": "jPD5z-9YMiSg",
        "outputId": "487021ee-29b6-4850-ba4b-f15169ea6c83"
      },
      "source": [
        "books = [Book(),Book(),Book()]\n",
        "books"
      ],
      "execution_count": null,
      "outputs": [
        {
          "output_type": "execute_result",
          "data": {
            "text/plain": [
              "[<__main__.Book at 0x7f850ef77390>,\n",
              " <__main__.Book at 0x7f850ef77a90>,\n",
              " <__main__.Book at 0x7f850ef772d0>]"
            ]
          },
          "metadata": {
            "tags": []
          },
          "execution_count": 42
        }
      ]
    },
    {
      "cell_type": "code",
      "metadata": {
        "colab": {
          "base_uri": "https://localhost:8080/"
        },
        "id": "n-B5fHMBMmgy",
        "outputId": "202e4abe-b4cb-4724-892c-da0708b3c717"
      },
      "source": [
        "for book in books:\n",
        "  print(f'Język: {book.language}, autor {book.author}')"
      ],
      "execution_count": null,
      "outputs": [
        {
          "output_type": "stream",
          "text": [
            "Język: PL, autor Mickiewicz\n",
            "Język: PL, autor Mickiewicz\n",
            "Język: PL, autor Mickiewicz\n"
          ],
          "name": "stdout"
        }
      ]
    },
    {
      "cell_type": "code",
      "metadata": {
        "id": "vb7YZqICMyXI"
      },
      "source": [
        "titles = ['Sonety krymskie', 'Pan Tadeusz', 'Konrad Walenrod']\n",
        "for book, value in zip(books, titles):\n",
        "  book.title = value"
      ],
      "execution_count": null,
      "outputs": []
    },
    {
      "cell_type": "code",
      "metadata": {
        "colab": {
          "base_uri": "https://localhost:8080/"
        },
        "id": "B4mQ5ZotNTAR",
        "outputId": "985c3597-0392-4c76-ec26-db034952f172"
      },
      "source": [
        "for book in books:\n",
        "  print(f'Język: {book.language}, autor {book.author}, tytul {book.title}')"
      ],
      "execution_count": null,
      "outputs": [
        {
          "output_type": "stream",
          "text": [
            "Język: PL, autor Mickiewicz, tytul Sonety krymskie\n",
            "Język: PL, autor Mickiewicz, tytul Pan Tadeusz\n",
            "Język: PL, autor Mickiewicz, tytul Konrad Walenrod\n"
          ],
          "name": "stdout"
        }
      ]
    },
    {
      "cell_type": "code",
      "metadata": {
        "id": "I08bUVqMNXUb"
      },
      "source": [
        "zip?"
      ],
      "execution_count": null,
      "outputs": []
    },
    {
      "cell_type": "code",
      "metadata": {
        "id": "Qea9AchLNb01"
      },
      "source": [
        "titles = ['Sonety krymskie', 'Pan Tadeusz', 'Konrad Walenrod']\n",
        "for book, value in zip(books, titles):\n",
        "  #book.title = value\n",
        "  setattr(book,'title',value)"
      ],
      "execution_count": null,
      "outputs": []
    },
    {
      "cell_type": "code",
      "metadata": {
        "colab": {
          "base_uri": "https://localhost:8080/"
        },
        "id": "MVPSd7L4OEna",
        "outputId": "3eb828b7-189a-4629-a50c-ad37120b8ab7"
      },
      "source": [
        "for book in books:\n",
        "  print(book.__dict__)"
      ],
      "execution_count": null,
      "outputs": [
        {
          "output_type": "stream",
          "text": [
            "{'title': 'Sonety krymskie'}\n",
            "{'title': 'Pan Tadeusz'}\n",
            "{'title': 'Konrad Walenrod'}\n"
          ],
          "name": "stdout"
        }
      ]
    },
    {
      "cell_type": "code",
      "metadata": {
        "id": "WoQuGQF0OI3N"
      },
      "source": [
        ""
      ],
      "execution_count": null,
      "outputs": []
    },
    {
      "cell_type": "markdown",
      "metadata": {
        "id": "WOP834C8ON6h"
      },
      "source": [
        "### Wywowalanie atrybutu klasy (funkcje) oraz wywolywalne atrybuty instancji (metody)\n"
      ]
    },
    {
      "cell_type": "code",
      "metadata": {
        "colab": {
          "base_uri": "https://localhost:8080/"
        },
        "id": "-urpijdzOVEC",
        "outputId": "b2604c17-c6d6-475d-c85e-c5bc02f87afc"
      },
      "source": [
        "class Book:\n",
        "  language = 'PL'\n",
        "  author = 'Mickiewicz'\n",
        "\n",
        "  def show_details():\n",
        "    print(f'Author: {Book.author}\\nJęzyk: {Book.language}')\n",
        "Book.__dict__"
      ],
      "execution_count": null,
      "outputs": [
        {
          "output_type": "execute_result",
          "data": {
            "text/plain": [
              "mappingproxy({'__dict__': <attribute '__dict__' of 'Book' objects>,\n",
              "              '__doc__': None,\n",
              "              '__module__': '__main__',\n",
              "              '__weakref__': <attribute '__weakref__' of 'Book' objects>,\n",
              "              'author': 'Mickiewicz',\n",
              "              'language': 'PL',\n",
              "              'show_details': <function __main__.Book.show_details>})"
            ]
          },
          "metadata": {
            "tags": []
          },
          "execution_count": 49
        }
      ]
    },
    {
      "cell_type": "code",
      "metadata": {
        "colab": {
          "base_uri": "https://localhost:8080/"
        },
        "id": "hM8IB0X1OlBk",
        "outputId": "091ccd71-7c26-4cf6-f9d6-f12f52278516"
      },
      "source": [
        "Book.show_details()"
      ],
      "execution_count": null,
      "outputs": [
        {
          "output_type": "stream",
          "text": [
            "Author: Mickiewicz\n",
            "Język: PL\n"
          ],
          "name": "stdout"
        }
      ]
    },
    {
      "cell_type": "code",
      "metadata": {
        "colab": {
          "base_uri": "https://localhost:8080/"
        },
        "id": "1DBYz8RLOoSF",
        "outputId": "fd61506b-f9b2-4284-cd26-ea4731949312"
      },
      "source": [
        "Book.show_language = lambda: print(f'Język: {Book.language}')\n",
        "Book.__dict__"
      ],
      "execution_count": null,
      "outputs": [
        {
          "output_type": "execute_result",
          "data": {
            "text/plain": [
              "mappingproxy({'__dict__': <attribute '__dict__' of 'Book' objects>,\n",
              "              '__doc__': None,\n",
              "              '__module__': '__main__',\n",
              "              '__weakref__': <attribute '__weakref__' of 'Book' objects>,\n",
              "              'author': 'Mickiewicz',\n",
              "              'language': 'PL',\n",
              "              'show_details': <function __main__.Book.show_details>,\n",
              "              'show_language': <function __main__.<lambda>>})"
            ]
          },
          "metadata": {
            "tags": []
          },
          "execution_count": 51
        }
      ]
    },
    {
      "cell_type": "code",
      "metadata": {
        "colab": {
          "base_uri": "https://localhost:8080/"
        },
        "id": "LugjuCcXO92X",
        "outputId": "8d76632e-9fca-4521-8233-953e379bf327"
      },
      "source": [
        "Book.show_language()"
      ],
      "execution_count": null,
      "outputs": [
        {
          "output_type": "stream",
          "text": [
            "Język: PL\n"
          ],
          "name": "stdout"
        }
      ]
    },
    {
      "cell_type": "code",
      "metadata": {
        "colab": {
          "base_uri": "https://localhost:8080/"
        },
        "id": "f9wr6trqPAuZ",
        "outputId": "145048ec-f873-4a4d-e6e7-d477bced4740"
      },
      "source": [
        "book1 = Book()\n",
        "book1.__dict__"
      ],
      "execution_count": null,
      "outputs": [
        {
          "output_type": "execute_result",
          "data": {
            "text/plain": [
              "{}"
            ]
          },
          "metadata": {
            "tags": []
          },
          "execution_count": 53
        }
      ]
    },
    {
      "cell_type": "code",
      "metadata": {
        "colab": {
          "base_uri": "https://localhost:8080/"
        },
        "id": "rtUn3JfnPJvn",
        "outputId": "a8afa5cf-885e-4a18-cfee-04f383521516"
      },
      "source": [
        "book1.show_details"
      ],
      "execution_count": null,
      "outputs": [
        {
          "output_type": "execute_result",
          "data": {
            "text/plain": [
              "<bound method Book.show_details of <__main__.Book object at 0x7f850ee9e350>>"
            ]
          },
          "metadata": {
            "tags": []
          },
          "execution_count": 54
        }
      ]
    },
    {
      "cell_type": "code",
      "metadata": {
        "colab": {
          "base_uri": "https://localhost:8080/",
          "height": 163
        },
        "id": "5EtA1CvGPMB_",
        "outputId": "da6b5e38-d8ab-4fda-e8b1-4df69b77a9a7"
      },
      "source": [
        "book1.show_details()"
      ],
      "execution_count": null,
      "outputs": [
        {
          "output_type": "error",
          "ename": "TypeError",
          "evalue": "ignored",
          "traceback": [
            "\u001b[0;31m---------------------------------------------------------------------------\u001b[0m",
            "\u001b[0;31mTypeError\u001b[0m                                 Traceback (most recent call last)",
            "\u001b[0;32m<ipython-input-55-40abf9f7ba87>\u001b[0m in \u001b[0;36m<module>\u001b[0;34m()\u001b[0m\n\u001b[0;32m----> 1\u001b[0;31m \u001b[0mbook1\u001b[0m\u001b[0;34m.\u001b[0m\u001b[0mshow_details\u001b[0m\u001b[0;34m(\u001b[0m\u001b[0;34m)\u001b[0m\u001b[0;34m\u001b[0m\u001b[0;34m\u001b[0m\u001b[0m\n\u001b[0m",
            "\u001b[0;31mTypeError\u001b[0m: show_details() takes 0 positional arguments but 1 was given"
          ]
        }
      ]
    },
    {
      "cell_type": "code",
      "metadata": {
        "colab": {
          "base_uri": "https://localhost:8080/"
        },
        "id": "UTweuimfPTkU",
        "outputId": "2a516494-d861-4af4-a7fe-0a45aa7a3a3e"
      },
      "source": [
        "type(Book.show_details), type(book1.show_details)"
      ],
      "execution_count": null,
      "outputs": [
        {
          "output_type": "execute_result",
          "data": {
            "text/plain": [
              "(function, method)"
            ]
          },
          "metadata": {
            "tags": []
          },
          "execution_count": 56
        }
      ]
    },
    {
      "cell_type": "code",
      "metadata": {
        "colab": {
          "base_uri": "https://localhost:8080/"
        },
        "id": "nnECCd1VPl1F",
        "outputId": "5687a398-4bbd-48e7-9f4d-f8c6108e619b"
      },
      "source": [
        "class Book:\n",
        "  language = 'PL'\n",
        "  author = 'Mickiewicz'\n",
        "\n",
        "  def show_details(*args):\n",
        "    print(args)\n",
        "    for arg in args:\n",
        "      print(f'{arg} -> {type(arg)}')\n",
        "\n",
        "Book.__dict__"
      ],
      "execution_count": null,
      "outputs": [
        {
          "output_type": "execute_result",
          "data": {
            "text/plain": [
              "mappingproxy({'__dict__': <attribute '__dict__' of 'Book' objects>,\n",
              "              '__doc__': None,\n",
              "              '__module__': '__main__',\n",
              "              '__weakref__': <attribute '__weakref__' of 'Book' objects>,\n",
              "              'author': 'Mickiewicz',\n",
              "              'language': 'PL',\n",
              "              'show_details': <function __main__.Book.show_details>})"
            ]
          },
          "metadata": {
            "tags": []
          },
          "execution_count": 57
        }
      ]
    },
    {
      "cell_type": "code",
      "metadata": {
        "colab": {
          "base_uri": "https://localhost:8080/"
        },
        "id": "JX0z9fZBQeBZ",
        "outputId": "603d071c-6bdc-4203-bad4-5c2eb4875274"
      },
      "source": [
        "Book.show_details()"
      ],
      "execution_count": null,
      "outputs": [
        {
          "output_type": "stream",
          "text": [
            "()\n"
          ],
          "name": "stdout"
        }
      ]
    },
    {
      "cell_type": "code",
      "metadata": {
        "colab": {
          "base_uri": "https://localhost:8080/"
        },
        "id": "ciOSCvrTQgYz",
        "outputId": "712de5ff-ebf9-4001-e6d4-60a333cfc37c"
      },
      "source": [
        "book1 = Book()\n",
        "book1.show_details()"
      ],
      "execution_count": null,
      "outputs": [
        {
          "output_type": "stream",
          "text": [
            "(<__main__.Book object at 0x7f850eeaf710>,)\n",
            "<__main__.Book object at 0x7f850eeaf710> -> <class '__main__.Book'>\n"
          ],
          "name": "stdout"
        }
      ]
    },
    {
      "cell_type": "code",
      "metadata": {
        "colab": {
          "base_uri": "https://localhost:8080/"
        },
        "id": "MIHm2LMdQpj_",
        "outputId": "15a766bc-2732-483a-88d7-46e89273463d"
      },
      "source": [
        "book1"
      ],
      "execution_count": null,
      "outputs": [
        {
          "output_type": "execute_result",
          "data": {
            "text/plain": [
              "<__main__.Book at 0x7f850eeaf710>"
            ]
          },
          "metadata": {
            "tags": []
          },
          "execution_count": 60
        }
      ]
    },
    {
      "cell_type": "code",
      "metadata": {
        "colab": {
          "base_uri": "https://localhost:8080/"
        },
        "id": "oumwuX5oQw4T",
        "outputId": "88394980-f9d6-4def-eada-186b088f96ed"
      },
      "source": [
        "book1.show_details('Tom II')"
      ],
      "execution_count": null,
      "outputs": [
        {
          "output_type": "stream",
          "text": [
            "(<__main__.Book object at 0x7f850eeaf710>, 'Tom II')\n",
            "<__main__.Book object at 0x7f850eeaf710> -> <class '__main__.Book'>\n",
            "Tom II -> <class 'str'>\n"
          ],
          "name": "stdout"
        }
      ]
    },
    {
      "cell_type": "code",
      "metadata": {
        "colab": {
          "base_uri": "https://localhost:8080/"
        },
        "id": "8aY-afDjQ0OF",
        "outputId": "3cb068d6-f22a-48f1-85cd-fe981d7af939"
      },
      "source": [
        "book1.show_details('Tom II',190.0)"
      ],
      "execution_count": null,
      "outputs": [
        {
          "output_type": "stream",
          "text": [
            "(<__main__.Book object at 0x7f850eeaf710>, 'Tom II', 190.0)\n",
            "<__main__.Book object at 0x7f850eeaf710> -> <class '__main__.Book'>\n",
            "Tom II -> <class 'str'>\n",
            "190.0 -> <class 'float'>\n"
          ],
          "name": "stdout"
        }
      ]
    },
    {
      "cell_type": "code",
      "metadata": {
        "id": "1qtSwzVoQ7YJ"
      },
      "source": [
        ""
      ],
      "execution_count": null,
      "outputs": []
    },
    {
      "cell_type": "markdown",
      "metadata": {
        "id": "EBR5ewoNRJW5"
      },
      "source": [
        "### Przyklad 2"
      ]
    },
    {
      "cell_type": "code",
      "metadata": {
        "colab": {
          "base_uri": "https://localhost:8080/"
        },
        "id": "StP2R71VRKuo",
        "outputId": "05bae67e-10fb-4360-ebc2-3f32e2b65a00"
      },
      "source": [
        "class Book:\n",
        "  language = 'PL'\n",
        "  author = 'Mickiewicz'\n",
        "\n",
        "  def set_title(instance, value):\n",
        "    instance.title = value\n",
        "\n",
        "Book.__dict__"
      ],
      "execution_count": null,
      "outputs": [
        {
          "output_type": "execute_result",
          "data": {
            "text/plain": [
              "mappingproxy({'__dict__': <attribute '__dict__' of 'Book' objects>,\n",
              "              '__doc__': None,\n",
              "              '__module__': '__main__',\n",
              "              '__weakref__': <attribute '__weakref__' of 'Book' objects>,\n",
              "              'author': 'Mickiewicz',\n",
              "              'language': 'PL',\n",
              "              'set_title': <function __main__.Book.set_title>})"
            ]
          },
          "metadata": {
            "tags": []
          },
          "execution_count": 64
        }
      ]
    },
    {
      "cell_type": "code",
      "metadata": {
        "colab": {
          "base_uri": "https://localhost:8080/"
        },
        "id": "cOah_dTaRfuV",
        "outputId": "5934a274-f7a1-42ca-972f-b9c8043b63ba"
      },
      "source": [
        "book1 = Book()\n",
        "book1"
      ],
      "execution_count": null,
      "outputs": [
        {
          "output_type": "execute_result",
          "data": {
            "text/plain": [
              "<__main__.Book at 0x7f850eebde90>"
            ]
          },
          "metadata": {
            "tags": []
          },
          "execution_count": 65
        }
      ]
    },
    {
      "cell_type": "code",
      "metadata": {
        "colab": {
          "base_uri": "https://localhost:8080/"
        },
        "id": "tqzPQ35zRkh-",
        "outputId": "df040fc4-ce94-4658-9f55-906d87180943"
      },
      "source": [
        "book1.set_title"
      ],
      "execution_count": null,
      "outputs": [
        {
          "output_type": "execute_result",
          "data": {
            "text/plain": [
              "<bound method Book.set_title of <__main__.Book object at 0x7f850eebde90>>"
            ]
          },
          "metadata": {
            "tags": []
          },
          "execution_count": 66
        }
      ]
    },
    {
      "cell_type": "code",
      "metadata": {
        "id": "viAX0ATzRl5O"
      },
      "source": [
        "book1.set_title('Pan Tadeusz')"
      ],
      "execution_count": null,
      "outputs": []
    },
    {
      "cell_type": "code",
      "metadata": {
        "colab": {
          "base_uri": "https://localhost:8080/"
        },
        "id": "32l-QzbERtwq",
        "outputId": "2aedd410-4445-4687-82bf-f80234371d67"
      },
      "source": [
        "book1.__dict__"
      ],
      "execution_count": null,
      "outputs": [
        {
          "output_type": "execute_result",
          "data": {
            "text/plain": [
              "{'title': 'Pan Tadeusz'}"
            ]
          },
          "metadata": {
            "tags": []
          },
          "execution_count": 68
        }
      ]
    },
    {
      "cell_type": "code",
      "metadata": {
        "colab": {
          "base_uri": "https://localhost:8080/",
          "height": 35
        },
        "id": "LVV4HAdURwyT",
        "outputId": "e843677a-e02a-4bbe-e9f9-c4a90bc45240"
      },
      "source": [
        "book1.title"
      ],
      "execution_count": null,
      "outputs": [
        {
          "output_type": "execute_result",
          "data": {
            "application/vnd.google.colaboratory.intrinsic+json": {
              "type": "string"
            },
            "text/plain": [
              "'Pan Tadeusz'"
            ]
          },
          "metadata": {
            "tags": []
          },
          "execution_count": 69
        }
      ]
    },
    {
      "cell_type": "code",
      "metadata": {
        "colab": {
          "base_uri": "https://localhost:8080/",
          "height": 163
        },
        "id": "kksyC73ZRyxe",
        "outputId": "b079373d-a800-471d-8666-113d047c67f2"
      },
      "source": [
        "Book.title"
      ],
      "execution_count": null,
      "outputs": [
        {
          "output_type": "error",
          "ename": "AttributeError",
          "evalue": "ignored",
          "traceback": [
            "\u001b[0;31m---------------------------------------------------------------------------\u001b[0m",
            "\u001b[0;31mAttributeError\u001b[0m                            Traceback (most recent call last)",
            "\u001b[0;32m<ipython-input-70-5d681a595211>\u001b[0m in \u001b[0;36m<module>\u001b[0;34m()\u001b[0m\n\u001b[0;32m----> 1\u001b[0;31m \u001b[0mBook\u001b[0m\u001b[0;34m.\u001b[0m\u001b[0mtitle\u001b[0m\u001b[0;34m\u001b[0m\u001b[0;34m\u001b[0m\u001b[0m\n\u001b[0m",
            "\u001b[0;31mAttributeError\u001b[0m: type object 'Book' has no attribute 'title'"
          ]
        }
      ]
    },
    {
      "cell_type": "code",
      "metadata": {
        "id": "G9KdEHXkR1g4"
      },
      "source": [
        "Book.set_title(book1, 'Konrad Walenrod')\n"
      ],
      "execution_count": null,
      "outputs": []
    },
    {
      "cell_type": "code",
      "metadata": {
        "colab": {
          "base_uri": "https://localhost:8080/"
        },
        "id": "T7RtDndaSAil",
        "outputId": "77906ed0-444b-4f05-9961-852456ee553e"
      },
      "source": [
        "book1.__dict__"
      ],
      "execution_count": null,
      "outputs": [
        {
          "output_type": "execute_result",
          "data": {
            "text/plain": [
              "{'title': 'Konrad Walenrod'}"
            ]
          },
          "metadata": {
            "tags": []
          },
          "execution_count": 72
        }
      ]
    },
    {
      "cell_type": "code",
      "metadata": {
        "colab": {
          "base_uri": "https://localhost:8080/"
        },
        "id": "3assS2-FSCB9",
        "outputId": "54d16ed7-b3b6-4586-e97d-c040f307dbcf"
      },
      "source": [
        "class Book:\n",
        "  language = 'PL'\n",
        "  author = 'Mickiewicz'\n",
        "\n",
        "  def set_title(self, value):\n",
        "    self.title = value\n",
        "\n",
        "Book.__dict__"
      ],
      "execution_count": null,
      "outputs": [
        {
          "output_type": "execute_result",
          "data": {
            "text/plain": [
              "mappingproxy({'__dict__': <attribute '__dict__' of 'Book' objects>,\n",
              "              '__doc__': None,\n",
              "              '__module__': '__main__',\n",
              "              '__weakref__': <attribute '__weakref__' of 'Book' objects>,\n",
              "              'author': 'Mickiewicz',\n",
              "              'language': 'PL',\n",
              "              'set_title': <function __main__.Book.set_title>})"
            ]
          },
          "metadata": {
            "tags": []
          },
          "execution_count": 73
        }
      ]
    },
    {
      "cell_type": "code",
      "metadata": {
        "id": "tmooaKwNSNc7"
      },
      "source": [
        "Book.get_title = lambda self: self.title"
      ],
      "execution_count": null,
      "outputs": []
    },
    {
      "cell_type": "code",
      "metadata": {
        "id": "irGjZQdcSUmv"
      },
      "source": [
        "book1 = Book()"
      ],
      "execution_count": null,
      "outputs": []
    },
    {
      "cell_type": "code",
      "metadata": {
        "id": "P-REOSpYSaUy"
      },
      "source": [
        "book1.set_title('Pan Tadeusz')"
      ],
      "execution_count": null,
      "outputs": []
    },
    {
      "cell_type": "code",
      "metadata": {
        "colab": {
          "base_uri": "https://localhost:8080/",
          "height": 35
        },
        "id": "TQ1RDk1qSW25",
        "outputId": "bf11911b-cb87-45d0-ebce-a74dba3a4b58"
      },
      "source": [
        "book1.get_title()"
      ],
      "execution_count": null,
      "outputs": [
        {
          "output_type": "execute_result",
          "data": {
            "application/vnd.google.colaboratory.intrinsic+json": {
              "type": "string"
            },
            "text/plain": [
              "'Pan Tadeusz'"
            ]
          },
          "metadata": {
            "tags": []
          },
          "execution_count": 78
        }
      ]
    },
    {
      "cell_type": "code",
      "metadata": {
        "colab": {
          "base_uri": "https://localhost:8080/"
        },
        "id": "s8uk_gxlSYTh",
        "outputId": "28d7c98f-4d52-4444-91a7-dfb0b7133203"
      },
      "source": [
        "class HouseProject:\n",
        "\n",
        "  number_of_floors = 2\n",
        "  area = 100\n",
        "\n",
        "  def describe_project():\n",
        "    print(f'Area: {HouseProject.area} m2.')\n",
        "    print(f'Number of floors: {HouseProject.number_of_floors}.')\n",
        "  def set_color(self, value):\n",
        "    self.color = value\n",
        "HouseProject.__dict__"
      ],
      "execution_count": null,
      "outputs": [
        {
          "output_type": "execute_result",
          "data": {
            "text/plain": [
              "mappingproxy({'__dict__': <attribute '__dict__' of 'HouseProject' objects>,\n",
              "              '__doc__': None,\n",
              "              '__module__': '__main__',\n",
              "              '__weakref__': <attribute '__weakref__' of 'HouseProject' objects>,\n",
              "              'area': 100,\n",
              "              'describe_project': <function __main__.HouseProject.describe_project>,\n",
              "              'number_of_floors': 2,\n",
              "              'set_color': <function __main__.HouseProject.set_color>})"
            ]
          },
          "metadata": {
            "tags": []
          },
          "execution_count": 83
        }
      ]
    },
    {
      "cell_type": "code",
      "metadata": {
        "id": "4vaS3q2WXzvE"
      },
      "source": [
        "project1 = HouseProject()"
      ],
      "execution_count": null,
      "outputs": []
    },
    {
      "cell_type": "code",
      "metadata": {
        "colab": {
          "base_uri": "https://localhost:8080/"
        },
        "id": "xLprNWr1Yu98",
        "outputId": "85cbe621-d479-456f-9ed9-739c3c5a3358"
      },
      "source": [
        "project1.__dict__"
      ],
      "execution_count": null,
      "outputs": [
        {
          "output_type": "execute_result",
          "data": {
            "text/plain": [
              "{}"
            ]
          },
          "metadata": {
            "tags": []
          },
          "execution_count": 86
        }
      ]
    },
    {
      "cell_type": "code",
      "metadata": {
        "id": "AbT8mORiZM-i"
      },
      "source": [
        "project1.set_color('white')"
      ],
      "execution_count": null,
      "outputs": []
    },
    {
      "cell_type": "code",
      "metadata": {
        "colab": {
          "base_uri": "https://localhost:8080/"
        },
        "id": "CeKH_BuAZQyt",
        "outputId": "44d4835e-f8d4-4dd0-cbb6-85304d2ad9d2"
      },
      "source": [
        "project1.__dict__"
      ],
      "execution_count": null,
      "outputs": [
        {
          "output_type": "execute_result",
          "data": {
            "text/plain": [
              "{'color': 'white'}"
            ]
          },
          "metadata": {
            "tags": []
          },
          "execution_count": 88
        }
      ]
    },
    {
      "cell_type": "code",
      "metadata": {
        "colab": {
          "base_uri": "https://localhost:8080/"
        },
        "id": "cGNun-ZBZSyt",
        "outputId": "ed6b862d-b299-4695-c1e4-46866f3a882d"
      },
      "source": [
        "HouseProject.set_color"
      ],
      "execution_count": null,
      "outputs": [
        {
          "output_type": "execute_result",
          "data": {
            "text/plain": [
              "<function __main__.HouseProject.set_color>"
            ]
          },
          "metadata": {
            "tags": []
          },
          "execution_count": 89
        }
      ]
    },
    {
      "cell_type": "code",
      "metadata": {
        "id": "zvaRfQS6ZXdn"
      },
      "source": [
        "HouseProject.set_color(project1, 'yellow')"
      ],
      "execution_count": null,
      "outputs": []
    },
    {
      "cell_type": "code",
      "metadata": {
        "colab": {
          "base_uri": "https://localhost:8080/",
          "height": 35
        },
        "id": "8_oQMI8BZeUD",
        "outputId": "01ec621b-1106-4f3b-c4f2-157d1cfd9262"
      },
      "source": [
        "project1.color"
      ],
      "execution_count": null,
      "outputs": [
        {
          "output_type": "execute_result",
          "data": {
            "application/vnd.google.colaboratory.intrinsic+json": {
              "type": "string"
            },
            "text/plain": [
              "'yellow'"
            ]
          },
          "metadata": {
            "tags": []
          },
          "execution_count": 91
        }
      ]
    },
    {
      "cell_type": "code",
      "metadata": {
        "id": "ewcnf37RZgmM"
      },
      "source": [
        ""
      ],
      "execution_count": null,
      "outputs": []
    },
    {
      "cell_type": "markdown",
      "metadata": {
        "id": "EUX-dZRzZ8Ul"
      },
      "source": [
        "### Pzestrzen nazw klasy i instancji"
      ]
    },
    {
      "cell_type": "code",
      "metadata": {
        "colab": {
          "base_uri": "https://localhost:8080/"
        },
        "id": "4c2zyhmNZ_e0",
        "outputId": "b98a2c9f-400a-4c6e-f598-ba539870d68e"
      },
      "source": [
        "class Phone:\n",
        "  pass\n",
        "Phone.__dict__"
      ],
      "execution_count": null,
      "outputs": [
        {
          "output_type": "execute_result",
          "data": {
            "text/plain": [
              "mappingproxy({'__dict__': <attribute '__dict__' of 'Phone' objects>,\n",
              "              '__doc__': None,\n",
              "              '__module__': '__main__',\n",
              "              '__weakref__': <attribute '__weakref__' of 'Phone' objects>})"
            ]
          },
          "metadata": {
            "tags": []
          },
          "execution_count": 92
        }
      ]
    },
    {
      "cell_type": "code",
      "metadata": {
        "colab": {
          "base_uri": "https://localhost:8080/"
        },
        "id": "zTXDe91faD-f",
        "outputId": "39d39108-f81f-4833-f5fe-97025784eb72"
      },
      "source": [
        "class Phone:\n",
        "  brand = 'Apple'\n",
        "Phone.__dict__"
      ],
      "execution_count": null,
      "outputs": [
        {
          "output_type": "execute_result",
          "data": {
            "text/plain": [
              "mappingproxy({'__dict__': <attribute '__dict__' of 'Phone' objects>,\n",
              "              '__doc__': None,\n",
              "              '__module__': '__main__',\n",
              "              '__weakref__': <attribute '__weakref__' of 'Phone' objects>,\n",
              "              'brand': 'Apple'})"
            ]
          },
          "metadata": {
            "tags": []
          },
          "execution_count": 93
        }
      ]
    },
    {
      "cell_type": "code",
      "metadata": {
        "colab": {
          "base_uri": "https://localhost:8080/"
        },
        "id": "zgF-m-tKacJT",
        "outputId": "7b081c6a-b4f1-4305-832f-95d1c3ec034e"
      },
      "source": [
        "class Phone:\n",
        "  brand = 'Apple'\n",
        "  short_name = brand[:3].upper()\n",
        "Phone.__dict__"
      ],
      "execution_count": null,
      "outputs": [
        {
          "output_type": "execute_result",
          "data": {
            "text/plain": [
              "mappingproxy({'__dict__': <attribute '__dict__' of 'Phone' objects>,\n",
              "              '__doc__': None,\n",
              "              '__module__': '__main__',\n",
              "              '__weakref__': <attribute '__weakref__' of 'Phone' objects>,\n",
              "              'brand': 'Apple',\n",
              "              'short_name': 'APP'})"
            ]
          },
          "metadata": {
            "tags": []
          },
          "execution_count": 94
        }
      ]
    },
    {
      "cell_type": "code",
      "metadata": {
        "colab": {
          "base_uri": "https://localhost:8080/",
          "height": 163
        },
        "id": "vu6d3jRjah2W",
        "outputId": "1e2ffd43-de45-4ed8-c2c0-5d2f3f2eedd1"
      },
      "source": [
        "brand"
      ],
      "execution_count": null,
      "outputs": [
        {
          "output_type": "error",
          "ename": "NameError",
          "evalue": "ignored",
          "traceback": [
            "\u001b[0;31m---------------------------------------------------------------------------\u001b[0m",
            "\u001b[0;31mNameError\u001b[0m                                 Traceback (most recent call last)",
            "\u001b[0;32m<ipython-input-95-d34b9699df53>\u001b[0m in \u001b[0;36m<module>\u001b[0;34m()\u001b[0m\n\u001b[0;32m----> 1\u001b[0;31m \u001b[0mbrand\u001b[0m\u001b[0;34m\u001b[0m\u001b[0;34m\u001b[0m\u001b[0m\n\u001b[0m",
            "\u001b[0;31mNameError\u001b[0m: name 'brand' is not defined"
          ]
        }
      ]
    },
    {
      "cell_type": "code",
      "metadata": {
        "colab": {
          "base_uri": "https://localhost:8080/",
          "height": 35
        },
        "id": "XtD3n90RamEY",
        "outputId": "412b86ac-1520-4355-a730-856a6d20a2c6"
      },
      "source": [
        "Phone.brand"
      ],
      "execution_count": null,
      "outputs": [
        {
          "output_type": "execute_result",
          "data": {
            "application/vnd.google.colaboratory.intrinsic+json": {
              "type": "string"
            },
            "text/plain": [
              "'Apple'"
            ]
          },
          "metadata": {
            "tags": []
          },
          "execution_count": 96
        }
      ]
    },
    {
      "cell_type": "code",
      "metadata": {
        "colab": {
          "base_uri": "https://localhost:8080/",
          "height": 35
        },
        "id": "987mmciSanfp",
        "outputId": "d18c1ae5-789c-4e7c-e25a-ea79ebdb087e"
      },
      "source": [
        "Phone.short_name"
      ],
      "execution_count": null,
      "outputs": [
        {
          "output_type": "execute_result",
          "data": {
            "application/vnd.google.colaboratory.intrinsic+json": {
              "type": "string"
            },
            "text/plain": [
              "'APP'"
            ]
          },
          "metadata": {
            "tags": []
          },
          "execution_count": 97
        }
      ]
    },
    {
      "cell_type": "code",
      "metadata": {
        "colab": {
          "base_uri": "https://localhost:8080/",
          "height": 163
        },
        "id": "RpYj7HhCao_Z",
        "outputId": "4f6c1aef-852b-40a7-d296-4ab7a208a9e0"
      },
      "source": [
        "Phone.price"
      ],
      "execution_count": null,
      "outputs": [
        {
          "output_type": "error",
          "ename": "AttributeError",
          "evalue": "ignored",
          "traceback": [
            "\u001b[0;31m---------------------------------------------------------------------------\u001b[0m",
            "\u001b[0;31mAttributeError\u001b[0m                            Traceback (most recent call last)",
            "\u001b[0;32m<ipython-input-98-aa0543e748fe>\u001b[0m in \u001b[0;36m<module>\u001b[0;34m()\u001b[0m\n\u001b[0;32m----> 1\u001b[0;31m \u001b[0mPhone\u001b[0m\u001b[0;34m.\u001b[0m\u001b[0mprice\u001b[0m\u001b[0;34m\u001b[0m\u001b[0;34m\u001b[0m\u001b[0m\n\u001b[0m",
            "\u001b[0;31mAttributeError\u001b[0m: type object 'Phone' has no attribute 'price'"
          ]
        }
      ]
    },
    {
      "cell_type": "code",
      "metadata": {
        "colab": {
          "base_uri": "https://localhost:8080/"
        },
        "id": "fXNt98PaavvN",
        "outputId": "6ddc6df0-9b1f-43b1-87b8-00fba218d49e"
      },
      "source": [
        "phone1 = Phone()\n",
        "phone1.brand,phone1.short_name"
      ],
      "execution_count": null,
      "outputs": [
        {
          "output_type": "execute_result",
          "data": {
            "text/plain": [
              "('Apple', 'APP')"
            ]
          },
          "metadata": {
            "tags": []
          },
          "execution_count": 99
        }
      ]
    },
    {
      "cell_type": "code",
      "metadata": {
        "id": "BslAH2gha67j"
      },
      "source": [
        "Phone.brand\n",
        "Phone.brand = 'Samsung'"
      ],
      "execution_count": null,
      "outputs": []
    },
    {
      "cell_type": "code",
      "metadata": {
        "colab": {
          "base_uri": "https://localhost:8080/",
          "height": 35
        },
        "id": "pWOPhLcdbGhA",
        "outputId": "e8386304-31b6-4171-a736-b5ce21c3c24c"
      },
      "source": [
        "phone1.brand"
      ],
      "execution_count": null,
      "outputs": [
        {
          "output_type": "execute_result",
          "data": {
            "application/vnd.google.colaboratory.intrinsic+json": {
              "type": "string"
            },
            "text/plain": [
              "'Samsung'"
            ]
          },
          "metadata": {
            "tags": []
          },
          "execution_count": 101
        }
      ]
    },
    {
      "cell_type": "code",
      "metadata": {
        "colab": {
          "base_uri": "https://localhost:8080/"
        },
        "id": "FCwP1v-wbIZa",
        "outputId": "3216189f-a9ba-4b0d-e9ab-7b92f02b930f"
      },
      "source": [
        "class Phone:\n",
        "  brand = 'Apple'\n",
        "  short_name = brand[:3].upper()\n",
        "Phone.__dict__\n",
        "phone1 = Phone()\n",
        "phone1.__dict__"
      ],
      "execution_count": null,
      "outputs": [
        {
          "output_type": "execute_result",
          "data": {
            "text/plain": [
              "{}"
            ]
          },
          "metadata": {
            "tags": []
          },
          "execution_count": 102
        }
      ]
    },
    {
      "cell_type": "code",
      "metadata": {
        "id": "Kd_gMW2sbPy-"
      },
      "source": [
        ""
      ],
      "execution_count": null,
      "outputs": []
    },
    {
      "cell_type": "markdown",
      "metadata": {
        "id": "IPgsqkwRbTzG"
      },
      "source": [
        "### Dostep do atrybutu klas z poziomu funkcji metody"
      ]
    },
    {
      "cell_type": "code",
      "metadata": {
        "id": "wwYp01V_bXqy"
      },
      "source": [
        "class Phone:\n",
        "  brand = 'Apple'\n",
        "  short_name = brand[:3].upper()\n",
        "\n",
        "  def print_brand():\n",
        "    print('Phone class')\n",
        "    print('Brand Apple')"
      ],
      "execution_count": null,
      "outputs": []
    },
    {
      "cell_type": "code",
      "metadata": {
        "colab": {
          "base_uri": "https://localhost:8080/"
        },
        "id": "manqaCQXbgMm",
        "outputId": "a9e85075-1455-477e-a2e5-e7ed92d9d17d"
      },
      "source": [
        "Phone.print_brand()"
      ],
      "execution_count": null,
      "outputs": [
        {
          "output_type": "stream",
          "text": [
            "Phone class\n",
            "Brand Apple\n"
          ],
          "name": "stdout"
        }
      ]
    },
    {
      "cell_type": "code",
      "metadata": {
        "colab": {
          "base_uri": "https://localhost:8080/"
        },
        "id": "1WsI_Tlcbkno",
        "outputId": "807174f9-963d-4d9a-c645-687c7a2cdb1c"
      },
      "source": [
        "class Phone:\n",
        "  brand = 'Apple'\n",
        "  short_name = brand[:3].upper()\n",
        "\n",
        "  def print_brand():\n",
        "    print('Phone class')\n",
        "    print(f'Brand {Phone.brand}')\n",
        "Phone.print_brand()"
      ],
      "execution_count": null,
      "outputs": [
        {
          "output_type": "stream",
          "text": [
            "Phone class\n",
            "Brand Apple\n"
          ],
          "name": "stdout"
        }
      ]
    },
    {
      "cell_type": "code",
      "metadata": {
        "colab": {
          "base_uri": "https://localhost:8080/",
          "height": 180
        },
        "id": "f7_Qg20pb4jE",
        "outputId": "81a0cce5-6286-45d8-b6c0-3250320b2934"
      },
      "source": [
        "phone1 = Phone()\n",
        "phone1.print_brand()"
      ],
      "execution_count": null,
      "outputs": [
        {
          "output_type": "error",
          "ename": "TypeError",
          "evalue": "ignored",
          "traceback": [
            "\u001b[0;31m---------------------------------------------------------------------------\u001b[0m",
            "\u001b[0;31mTypeError\u001b[0m                                 Traceback (most recent call last)",
            "\u001b[0;32m<ipython-input-108-53487384a810>\u001b[0m in \u001b[0;36m<module>\u001b[0;34m()\u001b[0m\n\u001b[1;32m      1\u001b[0m \u001b[0mphone1\u001b[0m \u001b[0;34m=\u001b[0m \u001b[0mPhone\u001b[0m\u001b[0;34m(\u001b[0m\u001b[0;34m)\u001b[0m\u001b[0;34m\u001b[0m\u001b[0;34m\u001b[0m\u001b[0m\n\u001b[0;32m----> 2\u001b[0;31m \u001b[0mphone1\u001b[0m\u001b[0;34m.\u001b[0m\u001b[0mprint_brand\u001b[0m\u001b[0;34m(\u001b[0m\u001b[0;34m)\u001b[0m\u001b[0;34m\u001b[0m\u001b[0;34m\u001b[0m\u001b[0m\n\u001b[0m",
            "\u001b[0;31mTypeError\u001b[0m: print_brand() takes 0 positional arguments but 1 was given"
          ]
        }
      ]
    },
    {
      "cell_type": "code",
      "metadata": {
        "id": "ZCdMwSqlcL7F"
      },
      "source": [
        "class Phone:\n",
        "  brand = 'Apple'\n",
        "  short_name = brand[:3].upper()\n",
        "\n",
        "  def print_brand(self):\n",
        "    print('Phone class')\n",
        "    print(f'Brand {Phone.brand}')\n"
      ],
      "execution_count": null,
      "outputs": []
    },
    {
      "cell_type": "code",
      "metadata": {
        "colab": {
          "base_uri": "https://localhost:8080/"
        },
        "id": "xV42_2mhcTIY",
        "outputId": "e2204e75-8603-42d9-b961-876ba3f24c51"
      },
      "source": [
        "phone1 = Phone()\n",
        "phone1.print_brand()"
      ],
      "execution_count": null,
      "outputs": [
        {
          "output_type": "stream",
          "text": [
            "Phone class\n",
            "Brand Apple\n"
          ],
          "name": "stdout"
        }
      ]
    },
    {
      "cell_type": "code",
      "metadata": {
        "colab": {
          "base_uri": "https://localhost:8080/"
        },
        "id": "BOydZoRmcUBZ",
        "outputId": "f29fbcb7-b9a4-4d1e-cd05-2ee630d927b0"
      },
      "source": [
        "Phone.print_brand(phone1)"
      ],
      "execution_count": null,
      "outputs": [
        {
          "output_type": "stream",
          "text": [
            "Phone class\n",
            "Brand Apple\n"
          ],
          "name": "stdout"
        }
      ]
    },
    {
      "cell_type": "code",
      "metadata": {
        "id": "q1scrdx5cb0V"
      },
      "source": [
        ""
      ],
      "execution_count": null,
      "outputs": []
    },
    {
      "cell_type": "markdown",
      "metadata": {
        "id": "usHR0u7_faY3"
      },
      "source": [
        "### Dostep do atrybutu instancji z poziomu funkcji/metody"
      ]
    },
    {
      "cell_type": "code",
      "metadata": {
        "id": "y-X_0Hd7ffwy"
      },
      "source": [
        "class Phone:\n",
        "  def __init__ (self,brand):\n",
        "    self.brand = brand \n",
        "\n",
        "    def print_brand(self):\n",
        "      print('Phone class')\n",
        "      print('Brand Apple')"
      ],
      "execution_count": null,
      "outputs": []
    },
    {
      "cell_type": "code",
      "metadata": {
        "colab": {
          "base_uri": "https://localhost:8080/"
        },
        "id": "vm35wEYNfzr1",
        "outputId": "06150629-5a5c-42ba-ebaf-efc7f87108f7"
      },
      "source": [
        "phone1 = Phone('Apple')\n",
        "phone1.__dict__"
      ],
      "execution_count": null,
      "outputs": [
        {
          "output_type": "execute_result",
          "data": {
            "text/plain": [
              "{'brand': 'Apple'}"
            ]
          },
          "metadata": {
            "tags": []
          },
          "execution_count": 113
        }
      ]
    },
    {
      "cell_type": "code",
      "metadata": {
        "colab": {
          "base_uri": "https://localhost:8080/"
        },
        "id": "rxw3KDc3f8M5",
        "outputId": "2cb520fc-a769-4f64-94d6-873f1743a52e"
      },
      "source": [
        "Phone.__dict__"
      ],
      "execution_count": null,
      "outputs": [
        {
          "output_type": "execute_result",
          "data": {
            "text/plain": [
              "mappingproxy({'__dict__': <attribute '__dict__' of 'Phone' objects>,\n",
              "              '__doc__': None,\n",
              "              '__init__': <function __main__.Phone.__init__>,\n",
              "              '__module__': '__main__',\n",
              "              '__weakref__': <attribute '__weakref__' of 'Phone' objects>})"
            ]
          },
          "metadata": {
            "tags": []
          },
          "execution_count": 114
        }
      ]
    },
    {
      "cell_type": "code",
      "metadata": {
        "id": "acRbAu9Mf_6j"
      },
      "source": [
        "class Phone:\n",
        "  def __init__ (self,brand):\n",
        "    self.brand = brand \n",
        "\n",
        "  def print_brand(self):\n",
        "    print('Phone class')\n",
        "    print(f'Brand {self.brand}')"
      ],
      "execution_count": null,
      "outputs": []
    },
    {
      "cell_type": "code",
      "metadata": {
        "colab": {
          "base_uri": "https://localhost:8080/"
        },
        "id": "IeRBzd1vgMxB",
        "outputId": "0f88439a-53b8-4c84-eb47-875c48a89c1d"
      },
      "source": [
        "phone1 = Phone('Apple')\n",
        "phone1.print_brand()"
      ],
      "execution_count": null,
      "outputs": [
        {
          "output_type": "stream",
          "text": [
            "Phone class\n",
            "Brand Apple\n"
          ],
          "name": "stdout"
        }
      ]
    },
    {
      "cell_type": "code",
      "metadata": {
        "id": "n-8146ZVgQ3D"
      },
      "source": [
        "class Phone:\n",
        "  def __init__ (self,brand):\n",
        "    self.brand = brand \n",
        "\n",
        "  def print_brand(self):\n",
        "    print(f'{self.__class__.__name__} class')\n",
        "    print(f'Brand {self.brand}')"
      ],
      "execution_count": null,
      "outputs": []
    },
    {
      "cell_type": "code",
      "metadata": {
        "colab": {
          "base_uri": "https://localhost:8080/"
        },
        "id": "u-CEmGpNgu-E",
        "outputId": "0481a2ea-5516-4c16-c585-bf912afbacd6"
      },
      "source": [
        "phone1 = Phone('Apple')\n",
        "phone1.print_brand()"
      ],
      "execution_count": null,
      "outputs": [
        {
          "output_type": "stream",
          "text": [
            "Phone class\n",
            "Brand Apple\n"
          ],
          "name": "stdout"
        }
      ]
    },
    {
      "cell_type": "code",
      "metadata": {
        "id": "cqPAhtB6gwDs"
      },
      "source": [
        ""
      ],
      "execution_count": null,
      "outputs": []
    },
    {
      "cell_type": "markdown",
      "metadata": {
        "id": "cQUbPcjxgziB"
      },
      "source": [
        "### Dostep do atrybutu klasy i instancji"
      ]
    },
    {
      "cell_type": "code",
      "metadata": {
        "colab": {
          "base_uri": "https://localhost:8080/"
        },
        "id": "rAKO1o45g3H3",
        "outputId": "c79685d6-a431-4e88-ebf2-3c33b3ab758a"
      },
      "source": [
        "class Phone:\n",
        "  brand = 'Apple'\n",
        "  def __init__ (self,brand):\n",
        "    self.brand = brand \n",
        "Phone.__dict__"
      ],
      "execution_count": null,
      "outputs": [
        {
          "output_type": "execute_result",
          "data": {
            "text/plain": [
              "mappingproxy({'__dict__': <attribute '__dict__' of 'Phone' objects>,\n",
              "              '__doc__': None,\n",
              "              '__init__': <function __main__.Phone.__init__>,\n",
              "              '__module__': '__main__',\n",
              "              '__weakref__': <attribute '__weakref__' of 'Phone' objects>,\n",
              "              'brand': 'Apple'})"
            ]
          },
          "metadata": {
            "tags": []
          },
          "execution_count": 122
        }
      ]
    },
    {
      "cell_type": "code",
      "metadata": {
        "colab": {
          "base_uri": "https://localhost:8080/",
          "height": 35
        },
        "id": "d68XFaMtg-d8",
        "outputId": "9634c3ad-2e51-45ca-e753-8b271cb71b47"
      },
      "source": [
        "phone1 = Phone('Samsung')\n",
        "phone1.brand"
      ],
      "execution_count": null,
      "outputs": [
        {
          "output_type": "execute_result",
          "data": {
            "application/vnd.google.colaboratory.intrinsic+json": {
              "type": "string"
            },
            "text/plain": [
              "'Samsung'"
            ]
          },
          "metadata": {
            "tags": []
          },
          "execution_count": 123
        }
      ]
    },
    {
      "cell_type": "code",
      "metadata": {
        "colab": {
          "base_uri": "https://localhost:8080/"
        },
        "id": "O5VqzCc-hH3z",
        "outputId": "a8012b83-615a-4084-f8a6-1aef268db0b6"
      },
      "source": [
        "class Phone:\n",
        "  brand = 'Apple'\n",
        "  def __init__ (self,brand):\n",
        "    self.brand = brand \n",
        "  def print_brand(self):\n",
        "    print(f'Wartość atrybutu klasy: {Phone.brand}')\n",
        "    print(f'Wartość atrybutu instancji {self.brand}')\n",
        "Phone.__dict__"
      ],
      "execution_count": null,
      "outputs": [
        {
          "output_type": "execute_result",
          "data": {
            "text/plain": [
              "mappingproxy({'__dict__': <attribute '__dict__' of 'Phone' objects>,\n",
              "              '__doc__': None,\n",
              "              '__init__': <function __main__.Phone.__init__>,\n",
              "              '__module__': '__main__',\n",
              "              '__weakref__': <attribute '__weakref__' of 'Phone' objects>,\n",
              "              'brand': 'Apple',\n",
              "              'print_brand': <function __main__.Phone.print_brand>})"
            ]
          },
          "metadata": {
            "tags": []
          },
          "execution_count": 124
        }
      ]
    },
    {
      "cell_type": "code",
      "metadata": {
        "colab": {
          "base_uri": "https://localhost:8080/"
        },
        "id": "NRFD1glJhYFA",
        "outputId": "8ffda9eb-2015-4574-c2ba-22a7ca93124f"
      },
      "source": [
        "phone1 = Phone('Samsung')\n",
        "phone1.print_brand()"
      ],
      "execution_count": null,
      "outputs": [
        {
          "output_type": "stream",
          "text": [
            "Wartość atrybutu klasy: Apple\n",
            "Wartość atrybutu instancji Samsung\n"
          ],
          "name": "stdout"
        }
      ]
    },
    {
      "cell_type": "code",
      "metadata": {
        "colab": {
          "base_uri": "https://localhost:8080/"
        },
        "id": "GoyEnTBQhd5E",
        "outputId": "42c1a820-68d6-4500-d458-b69347c76096"
      },
      "source": [
        "Phone.__dict__\n"
      ],
      "execution_count": null,
      "outputs": [
        {
          "output_type": "execute_result",
          "data": {
            "text/plain": [
              "mappingproxy({'__dict__': <attribute '__dict__' of 'Phone' objects>,\n",
              "              '__doc__': None,\n",
              "              '__init__': <function __main__.Phone.__init__>,\n",
              "              '__module__': '__main__',\n",
              "              '__weakref__': <attribute '__weakref__' of 'Phone' objects>,\n",
              "              'brand': 'Apple',\n",
              "              'print_brand': <function __main__.Phone.print_brand>})"
            ]
          },
          "metadata": {
            "tags": []
          },
          "execution_count": 127
        }
      ]
    },
    {
      "cell_type": "code",
      "metadata": {
        "colab": {
          "base_uri": "https://localhost:8080/"
        },
        "id": "xXWhL5eWhtH7",
        "outputId": "da626142-9640-4eac-8d60-9151608937fd"
      },
      "source": [
        "phone1.__dict__"
      ],
      "execution_count": null,
      "outputs": [
        {
          "output_type": "execute_result",
          "data": {
            "text/plain": [
              "{'brand': 'Samsung'}"
            ]
          },
          "metadata": {
            "tags": []
          },
          "execution_count": 128
        }
      ]
    },
    {
      "cell_type": "code",
      "metadata": {
        "id": "AQynsmEohvl0"
      },
      "source": [
        ""
      ],
      "execution_count": null,
      "outputs": []
    },
    {
      "cell_type": "markdown",
      "metadata": {
        "id": "eewBJze1hz8S"
      },
      "source": [
        "### Przyklad"
      ]
    },
    {
      "cell_type": "code",
      "metadata": {
        "colab": {
          "base_uri": "https://localhost:8080/"
        },
        "id": "UnW09pAwh15Q",
        "outputId": "cdf96b4d-b7b5-4968-8867-33413199d4f0"
      },
      "source": [
        "brand = 'HP'\n",
        "\n",
        "class Phone:\n",
        "  brand = 'Apple'\n",
        "  result1 = [brand]* 5\n",
        "  result2 = [Phone.brand for i in range(5)]\n",
        "Phone.__dict__"
      ],
      "execution_count": null,
      "outputs": [
        {
          "output_type": "execute_result",
          "data": {
            "text/plain": [
              "mappingproxy({'__dict__': <attribute '__dict__' of 'Phone' objects>,\n",
              "              '__doc__': None,\n",
              "              '__module__': '__main__',\n",
              "              '__weakref__': <attribute '__weakref__' of 'Phone' objects>,\n",
              "              'brand': 'Apple',\n",
              "              'result1': ['Apple', 'Apple', 'Apple', 'Apple', 'Apple'],\n",
              "              'result2': ['Apple', 'Apple', 'Apple', 'Apple', 'Apple']})"
            ]
          },
          "metadata": {
            "tags": []
          },
          "execution_count": 2
        }
      ]
    },
    {
      "cell_type": "code",
      "metadata": {
        "colab": {
          "base_uri": "https://localhost:8080/"
        },
        "id": "kwRRMfbiiL5l",
        "outputId": "01354c97-88d1-4bf5-c33c-cc30afe66f4d"
      },
      "source": [
        "class Book:\n",
        "    language = 'ENG'\n",
        "    is_ebook = True\n",
        "book = Book()\n",
        "book.__dict__\n",
        "book.author = 'Dan Brown'\n",
        "book.title = 'Inferno'\n",
        "book.__dict__"
      ],
      "execution_count": null,
      "outputs": [
        {
          "output_type": "execute_result",
          "data": {
            "text/plain": [
              "{'author': 'Dan Brown', 'title': 'Inferno'}"
            ]
          },
          "metadata": {
            "tags": []
          },
          "execution_count": 3
        }
      ]
    },
    {
      "cell_type": "code",
      "metadata": {
        "colab": {
          "base_uri": "https://localhost:8080/"
        },
        "id": "zjvp_FVJjDp4",
        "outputId": "e9d46ed0-d41a-4049-84e6-ff014e65a292"
      },
      "source": [
        "class Book:\n",
        "    language = 'ENG'\n",
        "    is_ebook = True\n",
        "    \n",
        "book_1 = Book()\n",
        "book_2 = Book()\n",
        "book_1.author = 'Dam Brown'\n",
        "book_1.title = 'Inferno'\n",
        "\n",
        "book_2.author = 'Dan Brown'\n",
        "book_2.title = 'The Da Vinci Code'\n",
        "book_2.year_of_publishment = 2003\n",
        "\n",
        "print(book_1.__dict__)\n",
        "print(book_2.__dict__)"
      ],
      "execution_count": null,
      "outputs": [
        {
          "output_type": "stream",
          "text": [
            "{'author': 'Dam Brown', 'title': 'Inferno'}\n",
            "{'author': 'Dan Brown', 'title': 'The Da Vinci Code', 'year_of_publishment': 2003}\n"
          ],
          "name": "stdout"
        }
      ]
    },
    {
      "cell_type": "code",
      "metadata": {
        "id": "UsxpxxASk2Hv"
      },
      "source": [
        "class Book:\n",
        "    language = 'ENG'\n",
        "    is_ebook = True\n",
        "    def set_title(self,brand):\n",
        "      self.brand = brand\n",
        "      print(f'{self.brand}')"
      ],
      "execution_count": null,
      "outputs": []
    },
    {
      "cell_type": "code",
      "metadata": {
        "colab": {
          "base_uri": "https://localhost:8080/"
        },
        "id": "FnuaGUeKk2rT",
        "outputId": "750b918d-4711-4fd0-c0cb-0a23414f2783"
      },
      "source": [
        "book1 = Book()\n",
        "book1.set_title('Angels & Demons')"
      ],
      "execution_count": null,
      "outputs": [
        {
          "output_type": "stream",
          "text": [
            "Angels & Demons\n"
          ],
          "name": "stdout"
        }
      ]
    },
    {
      "cell_type": "code",
      "metadata": {
        "id": "ifMhoy1hk7W-"
      },
      "source": [
        ""
      ],
      "execution_count": null,
      "outputs": []
    }
  ]
}