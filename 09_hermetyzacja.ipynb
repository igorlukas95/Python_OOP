{
  "nbformat": 4,
  "nbformat_minor": 0,
  "metadata": {
    "colab": {
      "name": "09_hermetyzacja.ipynb",
      "provenance": [],
      "authorship_tag": "ABX9TyPoux6/fPP/kojQ6tpdC5Ki",
      "include_colab_link": true
    },
    "kernelspec": {
      "name": "python3",
      "display_name": "Python 3"
    },
    "language_info": {
      "name": "python"
    }
  },
  "cells": [
    {
      "cell_type": "markdown",
      "metadata": {
        "id": "view-in-github",
        "colab_type": "text"
      },
      "source": [
        "<a href=\"https://colab.research.google.com/github/igorlukas95/Python_OOP/blob/main/09_hermetyzacja.ipynb\" target=\"_parent\"><img src=\"https://colab.research.google.com/assets/colab-badge.svg\" alt=\"Open In Colab\"/></a>"
      ]
    },
    {
      "cell_type": "markdown",
      "metadata": {
        "id": "FsW1I2rlitsl"
      },
      "source": [
        "### Hermetyzacja/ Enkapsulacja"
      ]
    },
    {
      "cell_type": "code",
      "metadata": {
        "id": "KUbHkcTHixNU",
        "colab": {
          "base_uri": "https://localhost:8080/"
        },
        "outputId": "8fa957e0-db8c-424d-9d21-a50dba55412b"
      },
      "source": [
        "class Phone:\n",
        "  def __init__(self,price):\n",
        "    self.price = price\n",
        "phone = Phone(2490)\n",
        "phone.__dict__"
      ],
      "execution_count": null,
      "outputs": [
        {
          "output_type": "execute_result",
          "data": {
            "text/plain": [
              "{'price': 2490}"
            ]
          },
          "metadata": {
            "tags": []
          },
          "execution_count": 1
        }
      ]
    },
    {
      "cell_type": "code",
      "metadata": {
        "colab": {
          "base_uri": "https://localhost:8080/"
        },
        "id": "5HTn4xUhdWIA",
        "outputId": "ccf8573e-99ae-4ebd-ce04-1168f2fb3956"
      },
      "source": [
        "class Phone:\n",
        "  def __init__(self,price):\n",
        "    self._price = price\n",
        "\n",
        "  def get_price(self):\n",
        "    return self._price\n",
        "  def set_price(self, value):\n",
        "    self._price = value\n",
        "\n",
        "\n",
        "phone = Phone(2490)\n",
        "phone.__dict__"
      ],
      "execution_count": null,
      "outputs": [
        {
          "output_type": "execute_result",
          "data": {
            "text/plain": [
              "{'_price': 2490}"
            ]
          },
          "metadata": {
            "tags": []
          },
          "execution_count": 4
        }
      ]
    },
    {
      "cell_type": "code",
      "metadata": {
        "colab": {
          "base_uri": "https://localhost:8080/"
        },
        "id": "kmegvanCdx7t",
        "outputId": "ed605fed-5c67-4ef5-de6b-48f7af1de7b2"
      },
      "source": [
        "phone.get_price()"
      ],
      "execution_count": null,
      "outputs": [
        {
          "output_type": "execute_result",
          "data": {
            "text/plain": [
              "2490"
            ]
          },
          "metadata": {
            "tags": []
          },
          "execution_count": 5
        }
      ]
    },
    {
      "cell_type": "code",
      "metadata": {
        "colab": {
          "base_uri": "https://localhost:8080/"
        },
        "id": "Aspi8ZYPd0Qt",
        "outputId": "222589b3-1575-4bd3-e887-1b279a16893a"
      },
      "source": [
        " class Phone:\n",
        "  def __init__(self,price):\n",
        "    self._price = price\n",
        "\n",
        "  def get_price(self):\n",
        "    return self._price\n",
        "  def set_price(self, value):\n",
        "    if isinstance(value, (int,float)):\n",
        "      if value > 0:\n",
        "        self._price = value\n",
        "      else: \n",
        "        raise ValueError('The price attribute must be positive')\n",
        "    else:\n",
        "      raise TypeError('The price attribute must be an int or float value.')\n",
        "\n",
        "\n",
        "phone = Phone(2490)\n",
        "phone.__dict__"
      ],
      "execution_count": null,
      "outputs": [
        {
          "output_type": "execute_result",
          "data": {
            "text/plain": [
              "{'_price': 2490}"
            ]
          },
          "metadata": {
            "tags": []
          },
          "execution_count": 6
        }
      ]
    },
    {
      "cell_type": "code",
      "metadata": {
        "colab": {
          "base_uri": "https://localhost:8080/",
          "height": 282
        },
        "id": "Jtl2G-AngJsU",
        "outputId": "f89305a7-8737-42cd-a0f6-e1d997c217d9"
      },
      "source": [
        "phone.set_price(-2999)"
      ],
      "execution_count": null,
      "outputs": [
        {
          "output_type": "error",
          "ename": "ValueError",
          "evalue": "ignored",
          "traceback": [
            "\u001b[0;31m---------------------------------------------------------------------------\u001b[0m",
            "\u001b[0;31mValueError\u001b[0m                                Traceback (most recent call last)",
            "\u001b[0;32m<ipython-input-7-79ff5195d5fb>\u001b[0m in \u001b[0;36m<module>\u001b[0;34m()\u001b[0m\n\u001b[0;32m----> 1\u001b[0;31m \u001b[0mphone\u001b[0m\u001b[0;34m.\u001b[0m\u001b[0mset_price\u001b[0m\u001b[0;34m(\u001b[0m\u001b[0;34m-\u001b[0m\u001b[0;36m2999\u001b[0m\u001b[0;34m)\u001b[0m\u001b[0;34m\u001b[0m\u001b[0;34m\u001b[0m\u001b[0m\n\u001b[0m",
            "\u001b[0;32m<ipython-input-6-b5f255174a73>\u001b[0m in \u001b[0;36mset_price\u001b[0;34m(self, value)\u001b[0m\n\u001b[1;32m     10\u001b[0m        \u001b[0mself\u001b[0m\u001b[0;34m.\u001b[0m\u001b[0m_price\u001b[0m \u001b[0;34m=\u001b[0m \u001b[0mvalue\u001b[0m\u001b[0;34m\u001b[0m\u001b[0;34m\u001b[0m\u001b[0m\n\u001b[1;32m     11\u001b[0m      \u001b[0;32melse\u001b[0m\u001b[0;34m:\u001b[0m\u001b[0;34m\u001b[0m\u001b[0;34m\u001b[0m\u001b[0m\n\u001b[0;32m---> 12\u001b[0;31m        \u001b[0;32mraise\u001b[0m \u001b[0mValueError\u001b[0m\u001b[0;34m(\u001b[0m\u001b[0;34m'The price attribute must be positive'\u001b[0m\u001b[0;34m)\u001b[0m\u001b[0;34m\u001b[0m\u001b[0;34m\u001b[0m\u001b[0m\n\u001b[0m\u001b[1;32m     13\u001b[0m    \u001b[0;32melse\u001b[0m\u001b[0;34m:\u001b[0m\u001b[0;34m\u001b[0m\u001b[0;34m\u001b[0m\u001b[0m\n\u001b[1;32m     14\u001b[0m      \u001b[0;32mraise\u001b[0m \u001b[0mTypeError\u001b[0m\u001b[0;34m(\u001b[0m\u001b[0;34m'The price attribute must be an int or float value.'\u001b[0m\u001b[0;34m)\u001b[0m\u001b[0;34m\u001b[0m\u001b[0;34m\u001b[0m\u001b[0m\n",
            "\u001b[0;31mValueError\u001b[0m: The price attribute must be positive"
          ]
        }
      ]
    },
    {
      "cell_type": "code",
      "metadata": {
        "colab": {
          "base_uri": "https://localhost:8080/"
        },
        "id": "4hl8-gPbgM-l",
        "outputId": "fc932d12-3974-481b-f5cc-8179d022a420"
      },
      "source": [
        "phone.set_price(299.0)\n",
        "phone.get_price()"
      ],
      "execution_count": null,
      "outputs": [
        {
          "output_type": "execute_result",
          "data": {
            "text/plain": [
              "299.0"
            ]
          },
          "metadata": {
            "tags": []
          },
          "execution_count": 10
        }
      ]
    },
    {
      "cell_type": "code",
      "metadata": {
        "colab": {
          "base_uri": "https://localhost:8080/"
        },
        "id": "Z1FZ81ozgPrO",
        "outputId": "72926a9f-f83a-40fd-d658-806a002b104f"
      },
      "source": [
        " class Phone:\n",
        "  def __init__(self,price):\n",
        "    self.set_price(price)\n",
        "\n",
        "  def get_price(self):\n",
        "    return self._price\n",
        "  def set_price(self, value):\n",
        "    if isinstance(value, (int,float)):\n",
        "      if value > 0:\n",
        "        self._price = value\n",
        "      else: \n",
        "        raise ValueError('The price attribute must be positive')\n",
        "    else:\n",
        "      raise TypeError('The price attribute must be an int or float value.')\n",
        "\n",
        "\n",
        "phone = Phone(2490)\n",
        "phone.__dict__"
      ],
      "execution_count": null,
      "outputs": [
        {
          "output_type": "execute_result",
          "data": {
            "text/plain": [
              "{'_price': 2490}"
            ]
          },
          "metadata": {
            "tags": []
          },
          "execution_count": 12
        }
      ]
    },
    {
      "cell_type": "code",
      "metadata": {
        "id": "R2cvTYnHgf_2"
      },
      "source": [
        "phone1 = Phone(0.1)"
      ],
      "execution_count": null,
      "outputs": []
    },
    {
      "cell_type": "code",
      "metadata": {
        "id": "rdyO8eu1gh9x"
      },
      "source": [
        ""
      ],
      "execution_count": null,
      "outputs": []
    },
    {
      "cell_type": "markdown",
      "metadata": {
        "id": "2sdyOTbtgv24"
      },
      "source": [
        "### Tworzenie wlasciwosci property()"
      ]
    },
    {
      "cell_type": "code",
      "metadata": {
        "colab": {
          "base_uri": "https://localhost:8080/"
        },
        "id": "xjFm1PycgyxA",
        "outputId": "ef2e78a0-2070-40f9-86b7-e9959793536a"
      },
      "source": [
        "help(property)"
      ],
      "execution_count": null,
      "outputs": [
        {
          "output_type": "stream",
          "text": [
            "Help on class property in module builtins:\n",
            "\n",
            "class property(object)\n",
            " |  property(fget=None, fset=None, fdel=None, doc=None)\n",
            " |  \n",
            " |  Property attribute.\n",
            " |  \n",
            " |    fget\n",
            " |      function to be used for getting an attribute value\n",
            " |    fset\n",
            " |      function to be used for setting an attribute value\n",
            " |    fdel\n",
            " |      function to be used for del'ing an attribute\n",
            " |    doc\n",
            " |      docstring\n",
            " |  \n",
            " |  Typical use is to define a managed attribute x:\n",
            " |  \n",
            " |  class C(object):\n",
            " |      def getx(self): return self._x\n",
            " |      def setx(self, value): self._x = value\n",
            " |      def delx(self): del self._x\n",
            " |      x = property(getx, setx, delx, \"I'm the 'x' property.\")\n",
            " |  \n",
            " |  Decorators make defining new properties or modifying existing ones easy:\n",
            " |  \n",
            " |  class C(object):\n",
            " |      @property\n",
            " |      def x(self):\n",
            " |          \"I am the 'x' property.\"\n",
            " |          return self._x\n",
            " |      @x.setter\n",
            " |      def x(self, value):\n",
            " |          self._x = value\n",
            " |      @x.deleter\n",
            " |      def x(self):\n",
            " |          del self._x\n",
            " |  \n",
            " |  Methods defined here:\n",
            " |  \n",
            " |  __delete__(self, instance, /)\n",
            " |      Delete an attribute of instance.\n",
            " |  \n",
            " |  __get__(self, instance, owner, /)\n",
            " |      Return an attribute of instance, which is of type owner.\n",
            " |  \n",
            " |  __getattribute__(self, name, /)\n",
            " |      Return getattr(self, name).\n",
            " |  \n",
            " |  __init__(self, /, *args, **kwargs)\n",
            " |      Initialize self.  See help(type(self)) for accurate signature.\n",
            " |  \n",
            " |  __set__(self, instance, value, /)\n",
            " |      Set an attribute of instance to value.\n",
            " |  \n",
            " |  deleter(...)\n",
            " |      Descriptor to change the deleter on a property.\n",
            " |  \n",
            " |  getter(...)\n",
            " |      Descriptor to change the getter on a property.\n",
            " |  \n",
            " |  setter(...)\n",
            " |      Descriptor to change the setter on a property.\n",
            " |  \n",
            " |  ----------------------------------------------------------------------\n",
            " |  Static methods defined here:\n",
            " |  \n",
            " |  __new__(*args, **kwargs) from builtins.type\n",
            " |      Create and return a new object.  See help(type) for accurate signature.\n",
            " |  \n",
            " |  ----------------------------------------------------------------------\n",
            " |  Data descriptors defined here:\n",
            " |  \n",
            " |  __isabstractmethod__\n",
            " |  \n",
            " |  fdel\n",
            " |  \n",
            " |  fget\n",
            " |  \n",
            " |  fset\n",
            "\n"
          ],
          "name": "stdout"
        }
      ]
    },
    {
      "cell_type": "code",
      "metadata": {
        "colab": {
          "base_uri": "https://localhost:8080/"
        },
        "id": "VRU7oUMtg296",
        "outputId": "869d5b64-26aa-410e-ba5e-538d926400d3"
      },
      "source": [
        "class Phone:\n",
        "\n",
        "  def __init__(self,price):\n",
        "    self._price = price\n",
        "  def get_price(self):\n",
        "    print('getting...')\n",
        "    return self._price\n",
        "phone = Phone(1200)\n",
        "phone.get_price()"
      ],
      "execution_count": null,
      "outputs": [
        {
          "output_type": "stream",
          "text": [
            "getting...\n"
          ],
          "name": "stdout"
        },
        {
          "output_type": "execute_result",
          "data": {
            "text/plain": [
              "1200"
            ]
          },
          "metadata": {
            "tags": []
          },
          "execution_count": 21
        }
      ]
    },
    {
      "cell_type": "code",
      "metadata": {
        "colab": {
          "base_uri": "https://localhost:8080/"
        },
        "id": "Z8pwGvCvhTE8",
        "outputId": "0cafde16-1a68-4622-f676-d02390d7eb3f"
      },
      "source": [
        "class Phone:\n",
        "\n",
        "  def __init__(self,price):\n",
        "    self._price = price\n",
        "  def get_price(self):\n",
        "    print('getting...')\n",
        "    return self._price\n",
        "\n",
        "  price = property(fget= get_price)\n",
        "Phone.__dict__"
      ],
      "execution_count": null,
      "outputs": [
        {
          "output_type": "execute_result",
          "data": {
            "text/plain": [
              "mappingproxy({'__dict__': <attribute '__dict__' of 'Phone' objects>,\n",
              "              '__doc__': None,\n",
              "              '__init__': <function __main__.Phone.__init__>,\n",
              "              '__module__': '__main__',\n",
              "              '__weakref__': <attribute '__weakref__' of 'Phone' objects>,\n",
              "              'get_price': <function __main__.Phone.get_price>,\n",
              "              'price': <property at 0x7f59d9f668f0>})"
            ]
          },
          "metadata": {
            "tags": []
          },
          "execution_count": 22
        }
      ]
    },
    {
      "cell_type": "code",
      "metadata": {
        "colab": {
          "base_uri": "https://localhost:8080/"
        },
        "id": "MCt2HeROhgsI",
        "outputId": "64dd6ba6-d7d6-4187-b458-135368fe4ef1"
      },
      "source": [
        "phone = Phone(1200)\n",
        "phone.get_price()"
      ],
      "execution_count": null,
      "outputs": [
        {
          "output_type": "stream",
          "text": [
            "getting...\n"
          ],
          "name": "stdout"
        },
        {
          "output_type": "execute_result",
          "data": {
            "text/plain": [
              "1200"
            ]
          },
          "metadata": {
            "tags": []
          },
          "execution_count": 25
        }
      ]
    },
    {
      "cell_type": "code",
      "metadata": {
        "colab": {
          "base_uri": "https://localhost:8080/"
        },
        "id": "UUDOtTgchrLF",
        "outputId": "8e84f0bd-d53e-4a0d-ef89-828aec6ea74b"
      },
      "source": [
        "phone.price"
      ],
      "execution_count": null,
      "outputs": [
        {
          "output_type": "stream",
          "text": [
            "getting...\n"
          ],
          "name": "stdout"
        },
        {
          "output_type": "execute_result",
          "data": {
            "text/plain": [
              "1200"
            ]
          },
          "metadata": {
            "tags": []
          },
          "execution_count": 26
        }
      ]
    },
    {
      "cell_type": "code",
      "metadata": {
        "colab": {
          "base_uri": "https://localhost:8080/"
        },
        "id": "gtDOBEz3hzhC",
        "outputId": "55e721f2-f131-4069-d3f4-98b61d236ec5"
      },
      "source": [
        "class Phone:\n",
        "\n",
        "  def __init__(self,price):\n",
        "    self._price = price\n",
        "  def price(self):\n",
        "    print('getting...')\n",
        "    return self._price\n",
        "\n",
        "  price = property(fget= price)\n",
        "Phone.__dict__"
      ],
      "execution_count": null,
      "outputs": [
        {
          "output_type": "execute_result",
          "data": {
            "text/plain": [
              "mappingproxy({'__dict__': <attribute '__dict__' of 'Phone' objects>,\n",
              "              '__doc__': None,\n",
              "              '__init__': <function __main__.Phone.__init__>,\n",
              "              '__module__': '__main__',\n",
              "              '__weakref__': <attribute '__weakref__' of 'Phone' objects>,\n",
              "              'price': <property at 0x7f59d5fa8110>})"
            ]
          },
          "metadata": {
            "tags": []
          },
          "execution_count": 28
        }
      ]
    },
    {
      "cell_type": "code",
      "metadata": {
        "colab": {
          "base_uri": "https://localhost:8080/"
        },
        "id": "6pNX4FgSh-e4",
        "outputId": "4603db13-7f88-4130-c03f-a62c22ffa2e9"
      },
      "source": [
        "phone = Phone(1200)\n",
        "phone.price"
      ],
      "execution_count": null,
      "outputs": [
        {
          "output_type": "stream",
          "text": [
            "getting...\n"
          ],
          "name": "stdout"
        },
        {
          "output_type": "execute_result",
          "data": {
            "text/plain": [
              "1200"
            ]
          },
          "metadata": {
            "tags": []
          },
          "execution_count": 30
        }
      ]
    },
    {
      "cell_type": "code",
      "metadata": {
        "colab": {
          "base_uri": "https://localhost:8080/",
          "height": 163
        },
        "id": "2q2fZ-saiDdS",
        "outputId": "e132fcbf-83f1-47d2-b080-d70fa9019706"
      },
      "source": [
        "phone.price = 30000"
      ],
      "execution_count": null,
      "outputs": [
        {
          "output_type": "error",
          "ename": "AttributeError",
          "evalue": "ignored",
          "traceback": [
            "\u001b[0;31m---------------------------------------------------------------------------\u001b[0m",
            "\u001b[0;31mAttributeError\u001b[0m                            Traceback (most recent call last)",
            "\u001b[0;32m<ipython-input-31-5a4a95e65a1a>\u001b[0m in \u001b[0;36m<module>\u001b[0;34m()\u001b[0m\n\u001b[0;32m----> 1\u001b[0;31m \u001b[0mphone\u001b[0m\u001b[0;34m.\u001b[0m\u001b[0mprice\u001b[0m \u001b[0;34m=\u001b[0m \u001b[0;36m30000\u001b[0m\u001b[0;34m\u001b[0m\u001b[0;34m\u001b[0m\u001b[0m\n\u001b[0m",
            "\u001b[0;31mAttributeError\u001b[0m: can't set attribute"
          ]
        }
      ]
    },
    {
      "cell_type": "code",
      "metadata": {
        "colab": {
          "base_uri": "https://localhost:8080/",
          "height": 163
        },
        "id": "Af7WiV6HiRaJ",
        "outputId": "28e5bc20-4ccf-4366-e539-1e1e2501b1ae"
      },
      "source": [
        "del phone.price"
      ],
      "execution_count": null,
      "outputs": [
        {
          "output_type": "error",
          "ename": "AttributeError",
          "evalue": "ignored",
          "traceback": [
            "\u001b[0;31m---------------------------------------------------------------------------\u001b[0m",
            "\u001b[0;31mAttributeError\u001b[0m                            Traceback (most recent call last)",
            "\u001b[0;32m<ipython-input-32-eaddd3e9ab37>\u001b[0m in \u001b[0;36m<module>\u001b[0;34m()\u001b[0m\n\u001b[0;32m----> 1\u001b[0;31m \u001b[0;32mdel\u001b[0m \u001b[0mphone\u001b[0m\u001b[0;34m.\u001b[0m\u001b[0mprice\u001b[0m\u001b[0;34m\u001b[0m\u001b[0;34m\u001b[0m\u001b[0m\n\u001b[0m",
            "\u001b[0;31mAttributeError\u001b[0m: can't delete attribute"
          ]
        }
      ]
    },
    {
      "cell_type": "code",
      "metadata": {
        "colab": {
          "base_uri": "https://localhost:8080/"
        },
        "id": "-AMIJ28ViUrT",
        "outputId": "9d3c9045-2f3e-4018-c5de-0be06c66f444"
      },
      "source": [
        "class Phone:\n",
        "\n",
        "  def __init__(self,price):\n",
        "    self._price = price\n",
        "  def get_price(self):\n",
        "    print('getting...')\n",
        "    return self._price\n",
        "  def set_price(self, value):\n",
        "    print('getting...')\n",
        "    if isinstance(value, (int,float)):\n",
        "      if value > 0:\n",
        "        self._price = value\n",
        "      else: \n",
        "        raise ValueError('The price attribute must be positive')\n",
        "    else:\n",
        "      raise TypeError('The price attribute must be an int or float value.')\n",
        "\n",
        "\n",
        "\n",
        "  price = property(fget= get_price, fset = set_price)\n",
        "Phone.__dict__"
      ],
      "execution_count": null,
      "outputs": [
        {
          "output_type": "execute_result",
          "data": {
            "text/plain": [
              "mappingproxy({'__dict__': <attribute '__dict__' of 'Phone' objects>,\n",
              "              '__doc__': None,\n",
              "              '__init__': <function __main__.Phone.__init__>,\n",
              "              '__module__': '__main__',\n",
              "              '__weakref__': <attribute '__weakref__' of 'Phone' objects>,\n",
              "              'get_price': <function __main__.Phone.get_price>,\n",
              "              'price': <property at 0x7f59d5f4b830>,\n",
              "              'set_price': <function __main__.Phone.set_price>})"
            ]
          },
          "metadata": {
            "tags": []
          },
          "execution_count": 36
        }
      ]
    },
    {
      "cell_type": "code",
      "metadata": {
        "colab": {
          "base_uri": "https://localhost:8080/"
        },
        "id": "IKOJ0lFRioR9",
        "outputId": "1d48ae91-0427-402e-fcb6-c7f94f51902c"
      },
      "source": [
        "phone = Phone(3000)\n",
        "phone.price"
      ],
      "execution_count": null,
      "outputs": [
        {
          "output_type": "stream",
          "text": [
            "getting...\n"
          ],
          "name": "stdout"
        },
        {
          "output_type": "execute_result",
          "data": {
            "text/plain": [
              "3000"
            ]
          },
          "metadata": {
            "tags": []
          },
          "execution_count": 37
        }
      ]
    },
    {
      "cell_type": "code",
      "metadata": {
        "colab": {
          "base_uri": "https://localhost:8080/"
        },
        "id": "t1kkX8l0iy6j",
        "outputId": "c64768a2-46ad-4e66-d121-ce8a03ca6ea1"
      },
      "source": [
        "phone.price = 4000"
      ],
      "execution_count": null,
      "outputs": [
        {
          "output_type": "stream",
          "text": [
            "getting...\n"
          ],
          "name": "stdout"
        }
      ]
    },
    {
      "cell_type": "code",
      "metadata": {
        "colab": {
          "base_uri": "https://localhost:8080/"
        },
        "id": "9MMOUIioi8xg",
        "outputId": "049a26af-916f-4e4b-ac69-9cabed48ee19"
      },
      "source": [
        "phone.price"
      ],
      "execution_count": null,
      "outputs": [
        {
          "output_type": "stream",
          "text": [
            "getting...\n"
          ],
          "name": "stdout"
        },
        {
          "output_type": "execute_result",
          "data": {
            "text/plain": [
              "4000"
            ]
          },
          "metadata": {
            "tags": []
          },
          "execution_count": 39
        }
      ]
    },
    {
      "cell_type": "code",
      "metadata": {
        "colab": {
          "base_uri": "https://localhost:8080/",
          "height": 299
        },
        "id": "G_i3A2wqjBnK",
        "outputId": "e640a2bc-f4d6-46ac-e5f5-20d3b977b894"
      },
      "source": [
        "phone.price = '4000'"
      ],
      "execution_count": null,
      "outputs": [
        {
          "output_type": "stream",
          "text": [
            "getting...\n"
          ],
          "name": "stdout"
        },
        {
          "output_type": "error",
          "ename": "TypeError",
          "evalue": "ignored",
          "traceback": [
            "\u001b[0;31m---------------------------------------------------------------------------\u001b[0m",
            "\u001b[0;31mTypeError\u001b[0m                                 Traceback (most recent call last)",
            "\u001b[0;32m<ipython-input-41-5d52bafa8f4a>\u001b[0m in \u001b[0;36m<module>\u001b[0;34m()\u001b[0m\n\u001b[0;32m----> 1\u001b[0;31m \u001b[0mphone\u001b[0m\u001b[0;34m.\u001b[0m\u001b[0mprice\u001b[0m \u001b[0;34m=\u001b[0m \u001b[0;34m'4000'\u001b[0m\u001b[0;34m\u001b[0m\u001b[0;34m\u001b[0m\u001b[0m\n\u001b[0m",
            "\u001b[0;32m<ipython-input-36-d7011ab4e5fd>\u001b[0m in \u001b[0;36mset_price\u001b[0;34m(self, value)\u001b[0m\n\u001b[1;32m     14\u001b[0m         \u001b[0;32mraise\u001b[0m \u001b[0mValueError\u001b[0m\u001b[0;34m(\u001b[0m\u001b[0;34m'The price attribute must be positive'\u001b[0m\u001b[0;34m)\u001b[0m\u001b[0;34m\u001b[0m\u001b[0;34m\u001b[0m\u001b[0m\n\u001b[1;32m     15\u001b[0m     \u001b[0;32melse\u001b[0m\u001b[0;34m:\u001b[0m\u001b[0;34m\u001b[0m\u001b[0;34m\u001b[0m\u001b[0m\n\u001b[0;32m---> 16\u001b[0;31m       \u001b[0;32mraise\u001b[0m \u001b[0mTypeError\u001b[0m\u001b[0;34m(\u001b[0m\u001b[0;34m'The price attribute must be an int or float value.'\u001b[0m\u001b[0;34m)\u001b[0m\u001b[0;34m\u001b[0m\u001b[0;34m\u001b[0m\u001b[0m\n\u001b[0m\u001b[1;32m     17\u001b[0m \u001b[0;34m\u001b[0m\u001b[0m\n\u001b[1;32m     18\u001b[0m \u001b[0;34m\u001b[0m\u001b[0m\n",
            "\u001b[0;31mTypeError\u001b[0m: The price attribute must be an int or float value."
          ]
        }
      ]
    },
    {
      "cell_type": "code",
      "metadata": {
        "colab": {
          "base_uri": "https://localhost:8080/",
          "height": 163
        },
        "id": "T0sp-m9PjIAl",
        "outputId": "971f1354-d03d-467a-ab6d-999a15851c40"
      },
      "source": [
        "del phone.price"
      ],
      "execution_count": null,
      "outputs": [
        {
          "output_type": "error",
          "ename": "AttributeError",
          "evalue": "ignored",
          "traceback": [
            "\u001b[0;31m---------------------------------------------------------------------------\u001b[0m",
            "\u001b[0;31mAttributeError\u001b[0m                            Traceback (most recent call last)",
            "\u001b[0;32m<ipython-input-42-eaddd3e9ab37>\u001b[0m in \u001b[0;36m<module>\u001b[0;34m()\u001b[0m\n\u001b[0;32m----> 1\u001b[0;31m \u001b[0;32mdel\u001b[0m \u001b[0mphone\u001b[0m\u001b[0;34m.\u001b[0m\u001b[0mprice\u001b[0m\u001b[0;34m\u001b[0m\u001b[0;34m\u001b[0m\u001b[0m\n\u001b[0m",
            "\u001b[0;31mAttributeError\u001b[0m: can't delete attribute"
          ]
        }
      ]
    },
    {
      "cell_type": "code",
      "metadata": {
        "id": "CSZNVJnNjPgh"
      },
      "source": [
        "class Phone:\n",
        "\n",
        "  def __init__(self,price):\n",
        "    self._price = price\n",
        "  def get_price(self):\n",
        "    print('getting...')\n",
        "    return self._price\n",
        "  def set_price(self, value):\n",
        "    print('getting...')\n",
        "    if isinstance(value, (int,float)):\n",
        "      if value > 0:\n",
        "        self._price = value\n",
        "      else: \n",
        "        raise ValueError('The price attribute must be positive')\n",
        "    else:\n",
        "      raise TypeError('The price attribute must be an int or float value.')\n",
        "\n",
        "\n",
        "\n",
        "  price = property(fget= get_price, fset = set_price)\n",
        "Phone.__dict__"
      ],
      "execution_count": null,
      "outputs": []
    }
  ]
}