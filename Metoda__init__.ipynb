{
  "nbformat": 4,
  "nbformat_minor": 0,
  "metadata": {
    "colab": {
      "name": "Metoda__init__",
      "provenance": [],
      "authorship_tag": "ABX9TyO9KkAo7gTFn0a+2QV+VM9X",
      "include_colab_link": true
    },
    "kernelspec": {
      "name": "python3",
      "display_name": "Python 3"
    },
    "language_info": {
      "name": "python"
    }
  },
  "cells": [
    {
      "cell_type": "markdown",
      "metadata": {
        "id": "view-in-github",
        "colab_type": "text"
      },
      "source": [
        "<a href=\"https://colab.research.google.com/github/igorlukas95/Python_OOP/blob/main/Metoda__init__.ipynb\" target=\"_parent\"><img src=\"https://colab.research.google.com/assets/colab-badge.svg\" alt=\"Open In Colab\"/></a>"
      ]
    },
    {
      "cell_type": "markdown",
      "metadata": {
        "id": "cri5sRPcOxt-"
      },
      "source": [
        "### Metoda __init__\n"
      ]
    },
    {
      "cell_type": "code",
      "metadata": {
        "colab": {
          "base_uri": "https://localhost:8080/"
        },
        "id": "GG0jPx8GO1F5",
        "outputId": "acb3ad64-a88a-42c0-e041-d94244bae127"
      },
      "source": [
        "class Phone:\n",
        "  \"\"\"Phone class\"\"\"\n",
        "help(Phone)"
      ],
      "execution_count": null,
      "outputs": [
        {
          "output_type": "stream",
          "text": [
            "Help on class Phone in module __main__:\n",
            "\n",
            "class Phone(builtins.object)\n",
            " |  Phone class\n",
            " |  \n",
            " |  Data descriptors defined here:\n",
            " |  \n",
            " |  __dict__\n",
            " |      dictionary for instance variables (if defined)\n",
            " |  \n",
            " |  __weakref__\n",
            " |      list of weak references to the object (if defined)\n",
            "\n"
          ],
          "name": "stdout"
        }
      ]
    },
    {
      "cell_type": "code",
      "metadata": {
        "colab": {
          "base_uri": "https://localhost:8080/"
        },
        "id": "Katn0saSO5kE",
        "outputId": "acce645c-5595-4fdb-d86b-50242cfa7bf0"
      },
      "source": [
        "help(object)"
      ],
      "execution_count": null,
      "outputs": [
        {
          "output_type": "stream",
          "text": [
            "Help on class object in module builtins:\n",
            "\n",
            "class object\n",
            " |  The most base type\n",
            "\n"
          ],
          "name": "stdout"
        }
      ]
    },
    {
      "cell_type": "code",
      "metadata": {
        "id": "AWoxuaU4O9TN"
      },
      "source": [
        "class Phone:\n",
        "  \"\"\"Phone class\"\"\"\n",
        "  def __init__(self):\n",
        "    print(f'Inicjalizacja nowego obiektu {self}')"
      ],
      "execution_count": null,
      "outputs": []
    },
    {
      "cell_type": "code",
      "metadata": {
        "colab": {
          "base_uri": "https://localhost:8080/"
        },
        "id": "j8TxxPxUPSgg",
        "outputId": "325a84e4-760d-49f8-a2c5-4443dd28aee5"
      },
      "source": [
        "Phone()"
      ],
      "execution_count": null,
      "outputs": [
        {
          "output_type": "stream",
          "text": [
            "Inicjalizacja nowego obiektu <__main__.Phone object at 0x7efc2bd2b790>\n"
          ],
          "name": "stdout"
        },
        {
          "output_type": "execute_result",
          "data": {
            "text/plain": [
              "<__main__.Phone at 0x7efc2bd2b790>"
            ]
          },
          "metadata": {
            "tags": []
          },
          "execution_count": 4
        }
      ]
    },
    {
      "cell_type": "code",
      "metadata": {
        "colab": {
          "base_uri": "https://localhost:8080/"
        },
        "id": "hb5kerUCPUKB",
        "outputId": "dbb45eec-1177-4e4a-a61e-d5ecaddf5ad2"
      },
      "source": [
        "phone1 = Phone()"
      ],
      "execution_count": null,
      "outputs": [
        {
          "output_type": "stream",
          "text": [
            "Inicjalizacja nowego obiektu <__main__.Phone object at 0x7efc2bcd3810>\n"
          ],
          "name": "stdout"
        }
      ]
    },
    {
      "cell_type": "code",
      "metadata": {
        "colab": {
          "base_uri": "https://localhost:8080/"
        },
        "id": "Svku2J9UPYwj",
        "outputId": "edb74ee0-aea7-4902-92a8-9b9ec6b19836"
      },
      "source": [
        "help(object.__new__)"
      ],
      "execution_count": null,
      "outputs": [
        {
          "output_type": "stream",
          "text": [
            "Help on built-in function __new__:\n",
            "\n",
            "__new__(*args, **kwargs) method of builtins.type instance\n",
            "    Create and return a new object.  See help(type) for accurate signature.\n",
            "\n"
          ],
          "name": "stdout"
        }
      ]
    },
    {
      "cell_type": "code",
      "metadata": {
        "id": "MXBvvUADPuG3"
      },
      "source": [
        "class Phone:\n",
        "  pass\n",
        "phone1 = Phone()"
      ],
      "execution_count": null,
      "outputs": []
    },
    {
      "cell_type": "code",
      "metadata": {
        "colab": {
          "base_uri": "https://localhost:8080/"
        },
        "id": "gikBAIh0P0Th",
        "outputId": "1effe4c7-1b7c-4f91-d096-c25a4df18ad7"
      },
      "source": [
        "Phone.__new__(Phone)"
      ],
      "execution_count": null,
      "outputs": [
        {
          "output_type": "execute_result",
          "data": {
            "text/plain": [
              "<__main__.Phone at 0x7efc318de510>"
            ]
          },
          "metadata": {
            "tags": []
          },
          "execution_count": 8
        }
      ]
    },
    {
      "cell_type": "code",
      "metadata": {
        "id": "NRlJvUN_P37D"
      },
      "source": [
        "phone2 = Phone.__new__(Phone)"
      ],
      "execution_count": null,
      "outputs": []
    },
    {
      "cell_type": "code",
      "metadata": {
        "colab": {
          "base_uri": "https://localhost:8080/"
        },
        "id": "2cUKOqltP6lU",
        "outputId": "1d52f3a6-ff83-447b-9315-d007bcc2db8d"
      },
      "source": [
        "phone2.__init__"
      ],
      "execution_count": null,
      "outputs": [
        {
          "output_type": "execute_result",
          "data": {
            "text/plain": [
              "<method-wrapper '__init__' of Phone object at 0x7efc2bcd88d0>"
            ]
          },
          "metadata": {
            "tags": []
          },
          "execution_count": 11
        }
      ]
    },
    {
      "cell_type": "code",
      "metadata": {
        "id": "CqsoTRkBP8a9"
      },
      "source": [
        "class Phone:\n",
        "  \"\"\"Phone class\"\"\"\n",
        "  def __init__(self):\n",
        "    print(f'Inicjalizacja nowego obiektu {self}')"
      ],
      "execution_count": null,
      "outputs": []
    },
    {
      "cell_type": "code",
      "metadata": {
        "colab": {
          "base_uri": "https://localhost:8080/"
        },
        "id": "5IBP7TnqQD_Z",
        "outputId": "0939e76f-ea37-4e18-b4d5-3dbf61b7cbde"
      },
      "source": [
        "phone1 = Phone()"
      ],
      "execution_count": null,
      "outputs": [
        {
          "output_type": "stream",
          "text": [
            "Inicjalizacja nowego obiektu <__main__.Phone object at 0x7efc2bcdc250>\n"
          ],
          "name": "stdout"
        }
      ]
    },
    {
      "cell_type": "code",
      "metadata": {
        "id": "0I7IAru8QHVT"
      },
      "source": [
        "class Phone:\n",
        "  \"\"\"Phone class\"\"\"\n",
        "  def __init__(self, value):\n",
        "    print(f'Inicjalizacja nowego obiektu {self}')\n",
        "    self.brand = value"
      ],
      "execution_count": null,
      "outputs": []
    },
    {
      "cell_type": "code",
      "metadata": {
        "colab": {
          "base_uri": "https://localhost:8080/",
          "height": 163
        },
        "id": "8FJqCfWYQROI",
        "outputId": "cf4c2aad-e5ed-4ea3-f833-f9c43e01c956"
      },
      "source": [
        "phone2 = Phone()"
      ],
      "execution_count": null,
      "outputs": [
        {
          "output_type": "error",
          "ename": "TypeError",
          "evalue": "ignored",
          "traceback": [
            "\u001b[0;31m---------------------------------------------------------------------------\u001b[0m",
            "\u001b[0;31mTypeError\u001b[0m                                 Traceback (most recent call last)",
            "\u001b[0;32m<ipython-input-15-e458bfdab11a>\u001b[0m in \u001b[0;36m<module>\u001b[0;34m()\u001b[0m\n\u001b[0;32m----> 1\u001b[0;31m \u001b[0mphone2\u001b[0m \u001b[0;34m=\u001b[0m \u001b[0mPhone\u001b[0m\u001b[0;34m(\u001b[0m\u001b[0;34m)\u001b[0m\u001b[0;34m\u001b[0m\u001b[0;34m\u001b[0m\u001b[0m\n\u001b[0m",
            "\u001b[0;31mTypeError\u001b[0m: __init__() missing 1 required positional argument: 'value'"
          ]
        }
      ]
    },
    {
      "cell_type": "code",
      "metadata": {
        "colab": {
          "base_uri": "https://localhost:8080/"
        },
        "id": "DGCYdFzmQTtR",
        "outputId": "5ea4774d-2392-4be0-ddec-6f729d18ab04"
      },
      "source": [
        "phone2 = Phone('Apple')"
      ],
      "execution_count": null,
      "outputs": [
        {
          "output_type": "stream",
          "text": [
            "Inicjalizacja nowego obiektu <__main__.Phone object at 0x7efc2bcdc510>\n"
          ],
          "name": "stdout"
        }
      ]
    },
    {
      "cell_type": "code",
      "metadata": {
        "colab": {
          "base_uri": "https://localhost:8080/",
          "height": 35
        },
        "id": "U3Ay0J-RQYYz",
        "outputId": "e810d7cb-8c9a-4bc3-8b19-9ff55731abd2"
      },
      "source": [
        "phone2.brand"
      ],
      "execution_count": null,
      "outputs": [
        {
          "output_type": "execute_result",
          "data": {
            "application/vnd.google.colaboratory.intrinsic+json": {
              "type": "string"
            },
            "text/plain": [
              "'Apple'"
            ]
          },
          "metadata": {
            "tags": []
          },
          "execution_count": 17
        }
      ]
    },
    {
      "cell_type": "code",
      "metadata": {
        "id": "9sIU_hR_Qaac"
      },
      "source": [
        "class Phone:\n",
        "  \"\"\"Phone class\"\"\"\n",
        "  def __init__(self, brand):\n",
        "    self.brand = brand"
      ],
      "execution_count": null,
      "outputs": []
    },
    {
      "cell_type": "code",
      "metadata": {
        "id": "pfODbkOVQxd5"
      },
      "source": [
        "class Laptop:\n",
        "  \"\"\"Laptop class\"\"\"\n",
        "  def __init__(self,brand,model,price):\n",
        "    self.brand = brand\n",
        "    self.model = model  \n",
        "    self.price = price"
      ],
      "execution_count": null,
      "outputs": []
    },
    {
      "cell_type": "code",
      "metadata": {
        "id": "ywHeASLgRBwr"
      },
      "source": [
        "laptop1 = Laptop('Acer','Predator','3000')"
      ],
      "execution_count": null,
      "outputs": []
    },
    {
      "cell_type": "code",
      "metadata": {
        "id": "HEcU4yp8RWus"
      },
      "source": [
        "class Laptop:\n",
        "  \"\"\"Laptop class\"\"\"\n",
        "  def __init__(self,brand,model,price):\n",
        "    self.brand = brand\n",
        "    self.model = model  \n",
        "    self.price = price\n",
        "  def display_attrs(self):\n",
        "    for attr in self.__dict__.keys():\n",
        "      print(attr)\n",
        "  def display_values(self):\n",
        "    for values in self.__dict__.values():\n",
        "      print(values)\n",
        "  def display_items(self):\n",
        "    for atr, values in self.__dict__.items():\n",
        "      print(f'{atr} -> {values}')"
      ],
      "execution_count": null,
      "outputs": []
    },
    {
      "cell_type": "code",
      "metadata": {
        "id": "GQQcRr3XR7Jv"
      },
      "source": [
        "laptop1 = Laptop('Acer','Predator','3000')"
      ],
      "execution_count": null,
      "outputs": []
    },
    {
      "cell_type": "code",
      "metadata": {
        "colab": {
          "base_uri": "https://localhost:8080/"
        },
        "id": "6XQyCSX2R7t3",
        "outputId": "57da9fd6-e0ac-4776-e2be-e6a9f77b10ce"
      },
      "source": [
        "laptop1.display_attrs()"
      ],
      "execution_count": null,
      "outputs": [
        {
          "output_type": "stream",
          "text": [
            "brand\n",
            "model\n",
            "price\n"
          ],
          "name": "stdout"
        }
      ]
    },
    {
      "cell_type": "code",
      "metadata": {
        "colab": {
          "base_uri": "https://localhost:8080/"
        },
        "id": "ZxhpRuCwR9Rw",
        "outputId": "0abd8717-3f50-4f10-85b4-59c95e71f75a"
      },
      "source": [
        "laptop1.display_values()"
      ],
      "execution_count": null,
      "outputs": [
        {
          "output_type": "stream",
          "text": [
            "Acer\n",
            "Predator\n",
            "3000\n"
          ],
          "name": "stdout"
        }
      ]
    },
    {
      "cell_type": "code",
      "metadata": {
        "colab": {
          "base_uri": "https://localhost:8080/"
        },
        "id": "7k5H03ZRSe-6",
        "outputId": "7fe1aac7-98a2-47f5-8f39-b4de9f8b5a83"
      },
      "source": [
        "laptop1.display_items()"
      ],
      "execution_count": null,
      "outputs": [
        {
          "output_type": "stream",
          "text": [
            "brand -> Acer\n",
            "model -> Predator\n",
            "price -> 3000\n"
          ],
          "name": "stdout"
        }
      ]
    },
    {
      "cell_type": "code",
      "metadata": {
        "id": "PEYcDKeETHVf"
      },
      "source": [
        ""
      ],
      "execution_count": null,
      "outputs": []
    },
    {
      "cell_type": "markdown",
      "metadata": {
        "id": "b4dkveauTLPF"
      },
      "source": [
        "### Przyklad"
      ]
    },
    {
      "cell_type": "code",
      "metadata": {
        "id": "qTXKbX2kTMHY"
      },
      "source": [
        "class Vector:\n",
        "\n",
        "  def __init__(self,*args):\n",
        "    self.components = args"
      ],
      "execution_count": null,
      "outputs": []
    },
    {
      "cell_type": "code",
      "metadata": {
        "id": "CwI5f7F4TaE_"
      },
      "source": [
        "v1 = Vector(3,4)"
      ],
      "execution_count": null,
      "outputs": []
    },
    {
      "cell_type": "code",
      "metadata": {
        "colab": {
          "base_uri": "https://localhost:8080/"
        },
        "id": "voEtk97aTc6p",
        "outputId": "ce8d5e2e-51c4-4ac0-8b24-2a1c71416051"
      },
      "source": [
        "v1.components"
      ],
      "execution_count": null,
      "outputs": [
        {
          "output_type": "execute_result",
          "data": {
            "text/plain": [
              "(3, 4)"
            ]
          },
          "metadata": {
            "tags": []
          },
          "execution_count": 44
        }
      ]
    },
    {
      "cell_type": "code",
      "metadata": {
        "id": "QdMhYmSFTef5"
      },
      "source": [
        " class Techstack:\n",
        "   def __init__(self,**kwargs):\n",
        "     self.techs = kwargs\n",
        "     "
      ],
      "execution_count": null,
      "outputs": []
    },
    {
      "cell_type": "code",
      "metadata": {
        "id": "ZomYtLisUNuC"
      },
      "source": [
        "stack = Techstack(python = 'mid')"
      ],
      "execution_count": null,
      "outputs": []
    },
    {
      "cell_type": "code",
      "metadata": {
        "colab": {
          "base_uri": "https://localhost:8080/"
        },
        "id": "2GSWlL_RURN0",
        "outputId": "d8c7f2c7-8087-4f3b-82dd-ac2837c516fc"
      },
      "source": [
        "stack.techs"
      ],
      "execution_count": null,
      "outputs": [
        {
          "output_type": "execute_result",
          "data": {
            "text/plain": [
              "{'python': 'mid'}"
            ]
          },
          "metadata": {
            "tags": []
          },
          "execution_count": 48
        }
      ]
    },
    {
      "cell_type": "code",
      "metadata": {
        "id": "iV1oQB9jUSx1"
      },
      "source": [
        " class Techstack:\n",
        "   def __init__(self,**techs):\n",
        "     for attr_name, attr_value in techs.items():\n",
        "       print(attr_name,attr_value)  "
      ],
      "execution_count": null,
      "outputs": []
    },
    {
      "cell_type": "code",
      "metadata": {
        "colab": {
          "base_uri": "https://localhost:8080/"
        },
        "id": "t-vQwjmcWFL5",
        "outputId": "a28a0d50-80ed-42a4-8089-113d4fdde811"
      },
      "source": [
        "Techstack(python = 'mid')"
      ],
      "execution_count": null,
      "outputs": [
        {
          "output_type": "stream",
          "text": [
            "python mid\n"
          ],
          "name": "stdout"
        },
        {
          "output_type": "execute_result",
          "data": {
            "text/plain": [
              "<__main__.Techstack at 0x7efc27cb3750>"
            ]
          },
          "metadata": {
            "tags": []
          },
          "execution_count": 50
        }
      ]
    },
    {
      "cell_type": "code",
      "metadata": {
        "id": "gqerr5lhWIoq"
      },
      "source": [
        ""
      ],
      "execution_count": null,
      "outputs": []
    },
    {
      "cell_type": "code",
      "metadata": {
        "id": "D-QQZw5ZWR6F"
      },
      "source": [
        " class Techstack:\n",
        "   def __init__(self,**techs):\n",
        "     for attr_name, attr_value in techs.items():\n",
        "       setattr(self,attr_name,attr_value)"
      ],
      "execution_count": null,
      "outputs": []
    },
    {
      "cell_type": "code",
      "metadata": {
        "id": "gDrAZlImWsC8"
      },
      "source": [
        "stack = Techstack(Java='regular',SQL = \"Senior\")"
      ],
      "execution_count": null,
      "outputs": []
    },
    {
      "cell_type": "code",
      "metadata": {
        "colab": {
          "base_uri": "https://localhost:8080/"
        },
        "id": "m_LxLD49WvYK",
        "outputId": "1f1c3416-e2cc-4e2e-f552-d5aa8fd2bc50"
      },
      "source": [
        "stack.__dict__"
      ],
      "execution_count": null,
      "outputs": [
        {
          "output_type": "execute_result",
          "data": {
            "text/plain": [
              "{'Java': 'regular', 'SQL': 'Senior'}"
            ]
          },
          "metadata": {
            "tags": []
          },
          "execution_count": 56
        }
      ]
    },
    {
      "cell_type": "code",
      "metadata": {
        "colab": {
          "base_uri": "https://localhost:8080/",
          "height": 35
        },
        "id": "KuOcQ4TXWywP",
        "outputId": "bfc6f1e2-b22c-4b4a-c959-fab327a7c649"
      },
      "source": [
        "stack.Java"
      ],
      "execution_count": null,
      "outputs": [
        {
          "output_type": "execute_result",
          "data": {
            "application/vnd.google.colaboratory.intrinsic+json": {
              "type": "string"
            },
            "text/plain": [
              "'regular'"
            ]
          },
          "metadata": {
            "tags": []
          },
          "execution_count": 57
        }
      ]
    },
    {
      "cell_type": "code",
      "metadata": {
        "id": "21tHlKqQW61r"
      },
      "source": [
        " class Techstack:\n",
        "   def __init__(self,**techs):\n",
        "     for attr_name, attr_value in techs.items():\n",
        "       setattr(self,attr_name,attr_value)\n",
        "   def display_info(self):\n",
        "     print(f'Total number of techs {len(self.__dict__)}')"
      ],
      "execution_count": null,
      "outputs": []
    },
    {
      "cell_type": "code",
      "metadata": {
        "id": "CUrnTSxMXK5D"
      },
      "source": [
        "stack = Techstack(Java='regular',SQL = \"Senior\",python = 'junior')"
      ],
      "execution_count": null,
      "outputs": []
    },
    {
      "cell_type": "code",
      "metadata": {
        "colab": {
          "base_uri": "https://localhost:8080/"
        },
        "id": "RVhYU9LIXMks",
        "outputId": "2d756a52-8d59-4543-a5f8-8d823b760d5b"
      },
      "source": [
        "stack.display_info()"
      ],
      "execution_count": null,
      "outputs": [
        {
          "output_type": "stream",
          "text": [
            "Total number of techs 3\n"
          ],
          "name": "stdout"
        }
      ]
    },
    {
      "cell_type": "code",
      "metadata": {
        "id": "lBCE8Qa-XN_l"
      },
      "source": [
        ""
      ],
      "execution_count": null,
      "outputs": []
    },
    {
      "cell_type": "markdown",
      "metadata": {
        "id": "ezQtCiPqXXgA"
      },
      "source": [
        "### Ustawianie nowych wartości atrybutów - walidacja"
      ]
    },
    {
      "cell_type": "code",
      "metadata": {
        "id": "ifHxfkzIXa7c"
      },
      "source": [
        "class Phone:\n",
        "  def __init__(self,brand,model,price):\n",
        "    self.brand = brand\n",
        "    self.model = model\n",
        "    if isinstance(price,(int,float)):\n",
        "      self.price = price\n",
        "    else:def _\n",
        "      raise TypeError('The price must be of type int or float')"
      ],
      "execution_count": null,
      "outputs": []
    },
    {
      "cell_type": "code",
      "metadata": {
        "id": "1PRWYbsWXjhR"
      },
      "source": [
        "phone1 = Phone('Apple','Iphone10',4000)"
      ],
      "execution_count": null,
      "outputs": []
    },
    {
      "cell_type": "code",
      "metadata": {
        "colab": {
          "base_uri": "https://localhost:8080/"
        },
        "id": "rwgkYKwVX368",
        "outputId": "d9537a62-53c8-4284-ff81-7853af9426ef"
      },
      "source": [
        "phone1.brand,phone1.model, phone1.price"
      ],
      "execution_count": null,
      "outputs": [
        {
          "output_type": "execute_result",
          "data": {
            "text/plain": [
              "('Apple', 'Iphone10', '%')"
            ]
          },
          "metadata": {
            "tags": []
          },
          "execution_count": 78
        }
      ]
    },
    {
      "cell_type": "code",
      "metadata": {
        "colab": {
          "base_uri": "https://localhost:8080/",
          "height": 248
        },
        "id": "9raS6C-NX8W-",
        "outputId": "cb32af74-63bc-410f-d78e-267a3d9034b0"
      },
      "source": [
        "phone1 = Phone('Apple','Iphone10','heheh')"
      ],
      "execution_count": null,
      "outputs": [
        {
          "output_type": "error",
          "ename": "TypeError",
          "evalue": "ignored",
          "traceback": [
            "\u001b[0;31m---------------------------------------------------------------------------\u001b[0m",
            "\u001b[0;31mTypeError\u001b[0m                                 Traceback (most recent call last)",
            "\u001b[0;32m<ipython-input-79-30a1a46fc5b1>\u001b[0m in \u001b[0;36m<module>\u001b[0;34m()\u001b[0m\n\u001b[0;32m----> 1\u001b[0;31m \u001b[0mphone1\u001b[0m \u001b[0;34m=\u001b[0m \u001b[0mPhone\u001b[0m\u001b[0;34m(\u001b[0m\u001b[0;34m'Apple'\u001b[0m\u001b[0;34m,\u001b[0m\u001b[0;34m'Iphone10'\u001b[0m\u001b[0;34m,\u001b[0m\u001b[0;34m'heheh'\u001b[0m\u001b[0;34m)\u001b[0m\u001b[0;34m\u001b[0m\u001b[0;34m\u001b[0m\u001b[0m\n\u001b[0m",
            "\u001b[0;32m<ipython-input-74-2bc5b774bf77>\u001b[0m in \u001b[0;36m__init__\u001b[0;34m(self, brand, model, price)\u001b[0m\n\u001b[1;32m      6\u001b[0m       \u001b[0mself\u001b[0m\u001b[0;34m.\u001b[0m\u001b[0mprice\u001b[0m \u001b[0;34m=\u001b[0m \u001b[0mprice\u001b[0m\u001b[0;34m\u001b[0m\u001b[0;34m\u001b[0m\u001b[0m\n\u001b[1;32m      7\u001b[0m     \u001b[0;32melse\u001b[0m\u001b[0;34m:\u001b[0m\u001b[0;34m\u001b[0m\u001b[0;34m\u001b[0m\u001b[0m\n\u001b[0;32m----> 8\u001b[0;31m       \u001b[0;32mraise\u001b[0m \u001b[0mTypeError\u001b[0m\u001b[0;34m(\u001b[0m\u001b[0;34m'The price must be of type int or float'\u001b[0m\u001b[0;34m)\u001b[0m\u001b[0;34m\u001b[0m\u001b[0;34m\u001b[0m\u001b[0m\n\u001b[0m",
            "\u001b[0;31mTypeError\u001b[0m: The price must be of type int or float"
          ]
        }
      ]
    },
    {
      "cell_type": "code",
      "metadata": {
        "id": "ouu3lM4aYeDW"
      },
      "source": [
        "phone1.price = 'hehe'"
      ],
      "execution_count": null,
      "outputs": []
    },
    {
      "cell_type": "code",
      "metadata": {
        "colab": {
          "base_uri": "https://localhost:8080/",
          "height": 35
        },
        "id": "X4B_cQNmYjwq",
        "outputId": "6674833f-d578-4229-80f2-bf4a35d4b751"
      },
      "source": [
        "phone1.price"
      ],
      "execution_count": null,
      "outputs": [
        {
          "output_type": "execute_result",
          "data": {
            "application/vnd.google.colaboratory.intrinsic+json": {
              "type": "string"
            },
            "text/plain": [
              "'hehe'"
            ]
          },
          "metadata": {
            "tags": []
          },
          "execution_count": 82
        }
      ]
    },
    {
      "cell_type": "code",
      "metadata": {
        "colab": {
          "base_uri": "https://localhost:8080/"
        },
        "id": "V4efW7I5Yl87",
        "outputId": "1cbc4061-8bde-4fbc-a431-a84c9513c1d0"
      },
      "source": [
        "class Phone:\n",
        "  def __init__(self,brand,model,price):\n",
        "    self.brand = brand\n",
        "    self.model = model\n",
        "    if isinstance(price,(int,float)):\n",
        "      self.price = price\n",
        "    else:\n",
        "      raise TypeError('The price must be of type int or float')\n",
        "  def show_details(self):\n",
        "    print(f'Brand: {self.brand}')\n",
        "    print(f'Model: {self.model}')\n",
        "    print(f'Price: {self.price} PLN')\n",
        "\n",
        "  def pln_to_usd(self):\n",
        "    self.price =self.price / 4.0\n",
        "Phone.__dict__"
      ],
      "execution_count": null,
      "outputs": [
        {
          "output_type": "execute_result",
          "data": {
            "text/plain": [
              "mappingproxy({'__dict__': <attribute '__dict__' of 'Phone' objects>,\n",
              "              '__doc__': None,\n",
              "              '__init__': <function __main__.Phone.__init__>,\n",
              "              '__module__': '__main__',\n",
              "              '__weakref__': <attribute '__weakref__' of 'Phone' objects>,\n",
              "              'pln_to_usd': <function __main__.Phone.pln_to_usd>,\n",
              "              'show_details': <function __main__.Phone.show_details>})"
            ]
          },
          "metadata": {
            "tags": []
          },
          "execution_count": 85
        }
      ]
    },
    {
      "cell_type": "code",
      "metadata": {
        "colab": {
          "base_uri": "https://localhost:8080/"
        },
        "id": "nInXUZmKZmQO",
        "outputId": "fa6038ad-b96c-41d5-80dc-5d95c3b2467d"
      },
      "source": [
        "phone1 = Phone('Apple','Iphone10',4000)\n",
        "phone1.show_details()\n",
        "phone1.pln_to_usd()\n",
        "phone1.price"
      ],
      "execution_count": null,
      "outputs": [
        {
          "output_type": "stream",
          "text": [
            "Brand: Apple\n",
            "Model: Iphone10\n",
            "Price: 4000 PLN\n"
          ],
          "name": "stdout"
        },
        {
          "output_type": "execute_result",
          "data": {
            "text/plain": [
              "1000.0"
            ]
          },
          "metadata": {
            "tags": []
          },
          "execution_count": 88
        }
      ]
    },
    {
      "cell_type": "code",
      "metadata": {
        "id": "DIdE9UdEZsIA"
      },
      "source": [
        "class Techstack:\n",
        "  def __init__(self, tech=None):\n",
        "    self.tech = tech"
      ],
      "execution_count": null,
      "outputs": []
    },
    {
      "cell_type": "code",
      "metadata": {
        "id": "HIWvTcSTaplf"
      },
      "source": [
        "stack = Techstack('Python')"
      ],
      "execution_count": null,
      "outputs": []
    },
    {
      "cell_type": "code",
      "metadata": {
        "colab": {
          "base_uri": "https://localhost:8080/"
        },
        "id": "mIgKZs12ar3w",
        "outputId": "c2ade4d2-4132-443e-cc97-aae63991bf1b"
      },
      "source": [
        "stack.__dict__"
      ],
      "execution_count": null,
      "outputs": [
        {
          "output_type": "execute_result",
          "data": {
            "text/plain": [
              "{'tech': 'Python'}"
            ]
          },
          "metadata": {
            "tags": []
          },
          "execution_count": 93
        }
      ]
    },
    {
      "cell_type": "code",
      "metadata": {
        "id": "Qr2bP0Piatnh"
      },
      "source": [
        "class Techstack:\n",
        "  def __init__(self, tech=None):\n",
        "    self.tech = tech\n",
        "  def display_info(self):\n",
        "    if self.tech:\n",
        "      print(f'Techs: {self.tech}')\n",
        "    else: \n",
        "      print('No techs')"
      ],
      "execution_count": null,
      "outputs": []
    },
    {
      "cell_type": "code",
      "metadata": {
        "id": "xM0XXATObHo1"
      },
      "source": [
        "stack = Techstack()"
      ],
      "execution_count": null,
      "outputs": []
    },
    {
      "cell_type": "code",
      "metadata": {
        "colab": {
          "base_uri": "https://localhost:8080/"
        },
        "id": "GkqDktBlbK1X",
        "outputId": "b8f2b346-448d-4e34-ef01-037edacabf0e"
      },
      "source": [
        "stack.display_info()"
      ],
      "execution_count": null,
      "outputs": [
        {
          "output_type": "stream",
          "text": [
            "No techs\n"
          ],
          "name": "stdout"
        }
      ]
    },
    {
      "cell_type": "code",
      "metadata": {
        "id": "CyAFCMfPbMdQ"
      },
      "source": [
        "stack2 = Techstack('Jave')"
      ],
      "execution_count": null,
      "outputs": []
    },
    {
      "cell_type": "code",
      "metadata": {
        "colab": {
          "base_uri": "https://localhost:8080/"
        },
        "id": "Jyru5S5QbP-j",
        "outputId": "4a7004cb-94b0-4dc3-d94f-79759b787b36"
      },
      "source": [
        "stack2.display_info()"
      ],
      "execution_count": null,
      "outputs": [
        {
          "output_type": "stream",
          "text": [
            "Techs: Jave\n"
          ],
          "name": "stdout"
        }
      ]
    },
    {
      "cell_type": "code",
      "metadata": {
        "id": "ZqxuT6YLbSFE"
      },
      "source": [
        "class Techstack:\n",
        "  def __init__(self, tech=None):\n",
        "    self.tech = tech if tech else 'python'\n",
        "  def display_info(self):\n",
        "    if self.tech:\n",
        "      print(f'Techs: {self.tech}')\n",
        "    else: \n",
        "      print('No techs')"
      ],
      "execution_count": null,
      "outputs": []
    },
    {
      "cell_type": "code",
      "metadata": {
        "id": "bLQrehx4bk21"
      },
      "source": [
        "stack3 = Techstack()"
      ],
      "execution_count": null,
      "outputs": []
    },
    {
      "cell_type": "code",
      "metadata": {
        "colab": {
          "base_uri": "https://localhost:8080/"
        },
        "id": "7Feqv1Grbqmw",
        "outputId": "e2a3d9f6-ad35-4fd7-b902-e0bb21956e00"
      },
      "source": [
        "stack3.display_info()"
      ],
      "execution_count": null,
      "outputs": [
        {
          "output_type": "stream",
          "text": [
            "Techs: python\n"
          ],
          "name": "stdout"
        }
      ]
    },
    {
      "cell_type": "code",
      "metadata": {
        "colab": {
          "base_uri": "https://localhost:8080/"
        },
        "id": "nQZQ_S4kbsAp",
        "outputId": "245ddb02-fc9e-4787-8e1f-ff2dee70a5f8"
      },
      "source": [
        "stack2 = Techstack('Jave')\n",
        "stack2.display_info()"
      ],
      "execution_count": null,
      "outputs": [
        {
          "output_type": "stream",
          "text": [
            "Techs: Jave\n"
          ],
          "name": "stdout"
        }
      ]
    }
  ]
}